{
 "cells": [
  {
   "cell_type": "code",
   "execution_count": 8,
   "id": "4d9ee83b",
   "metadata": {},
   "outputs": [
    {
     "name": "stdout",
     "output_type": "stream",
     "text": [
      "/bin/bash: -c: line 1: unexpected EOF while looking for matching ``'\n"
     ]
    }
   ],
   "source": [
    "!pip install -U langchain-google-genai`\""
   ]
  },
  {
   "cell_type": "code",
   "execution_count": 10,
   "id": "e36c7032",
   "metadata": {},
   "outputs": [],
   "source": [
    "import getpass\n",
    "import os\n",
    "\n",
    "if not os.environ.get(\"GOOGLE_API_KEY\"):\n",
    "    os.environ[\"GOOGLE_API_KEY\"] = getpass.getpass(\"Enter Api Key:\")\n",
    "from langchain.chat_models import init_chat_model\n",
    "model = init_chat_model(\"gemini-2.0-flash\", model_provider=\"google_genai\")"
   ]
  },
  {
   "cell_type": "code",
   "execution_count": 17,
   "id": "20223b7d",
   "metadata": {},
   "outputs": [
    {
     "data": {
      "text/plain": [
       "AIMessage(content=\"Why don't scientists trust atoms?\\n\\nBecause they make up everything!\", additional_kwargs={}, response_metadata={'prompt_feedback': {'block_reason': 0, 'safety_ratings': []}, 'finish_reason': 'STOP', 'model_name': 'gemini-2.0-flash', 'safety_ratings': []}, id='run--f11e7ff5-7f69-4ca1-bc69-0e5f1a106182-0', usage_metadata={'input_tokens': 4, 'output_tokens': 16, 'total_tokens': 20, 'input_token_details': {'cache_read': 0}})"
      ]
     },
     "execution_count": 17,
     "metadata": {},
     "output_type": "execute_result"
    }
   ],
   "source": [
    "model.invoke(\"Tell me a joke\")"
   ]
  },
  {
   "cell_type": "code",
   "execution_count": 16,
   "id": "0a15b3ed",
   "metadata": {},
   "outputs": [
    {
     "data": {
      "text/plain": [
       "AIMessage(content=\"Why don't scientists trust atoms?\\n\\nBecause they make up everything! \", additional_kwargs={}, response_metadata={'prompt_feedback': {'block_reason': 0, 'safety_ratings': []}, 'finish_reason': 'STOP', 'model_name': 'gemini-2.0-flash', 'safety_ratings': []}, id='run--014ce97a-90ab-440e-a7e7-25449931e678-0', usage_metadata={'input_tokens': 7, 'output_tokens': 17, 'total_tokens': 24, 'input_token_details': {'cache_read': 0}})"
      ]
     },
     "execution_count": 16,
     "metadata": {},
     "output_type": "execute_result"
    }
   ],
   "source": [
    "from langchain_core.messages import HumanMessage, SystemMessage\n",
    "\n",
    "messages = [\n",
    "    SystemMessage(\"Chat with humans\"),\n",
    "    HumanMessage(\"Tell me a joke\"),\n",
    "]\n",
    "\n",
    "model.invoke(messages)"
   ]
  },
  {
   "cell_type": "code",
   "execution_count": 20,
   "id": "333902b1",
   "metadata": {},
   "outputs": [
    {
     "data": {
      "text/plain": [
       "AIMessage(content='Hello! How can I help you today?', additional_kwargs={}, response_metadata={'prompt_feedback': {'block_reason': 0, 'safety_ratings': []}, 'finish_reason': 'STOP', 'model_name': 'gemini-2.0-flash', 'safety_ratings': []}, id='run--6a64a295-3855-47d1-9fa3-113ce40a981c-0', usage_metadata={'input_tokens': 1, 'output_tokens': 10, 'total_tokens': 11, 'input_token_details': {'cache_read': 0}})"
      ]
     },
     "execution_count": 20,
     "metadata": {},
     "output_type": "execute_result"
    }
   ],
   "source": [
    "model.invoke([{\"role\": \"user\", \"content\": \"Hello\"}])\n"
   ]
  },
  {
   "cell_type": "code",
   "execution_count": 21,
   "id": "78cc792c",
   "metadata": {},
   "outputs": [
    {
     "name": "stdout",
     "output_type": "stream",
     "text": [
      "Why| don't| scientists trust atoms?\n",
      "\n",
      "Because they make up everything! \n",
      "|"
     ]
    }
   ],
   "source": [
    "for token in model.stream(messages):\n",
    "    print(token.content, end=\"|\")"
   ]
  },
  {
   "cell_type": "code",
   "execution_count": 22,
   "id": "946afd43",
   "metadata": {},
   "outputs": [],
   "source": [
    "from langchain_core.prompts import ChatPromptTemplate\n",
    "\n",
    "system_template = \"Translate the following from English into {language}\"\n",
    "\n",
    "prompt_template = ChatPromptTemplate.from_messages(\n",
    "    [(\"system\", system_template), (\"user\", \"{text}\")]\n",
    ")"
   ]
  },
  {
   "cell_type": "code",
   "execution_count": 26,
   "id": "51525fb1",
   "metadata": {},
   "outputs": [
    {
     "data": {
      "text/plain": [
       "ChatPromptValue(messages=[SystemMessage(content='Translate the following from English into Hindi', additional_kwargs={}, response_metadata={}), HumanMessage(content='Hi!', additional_kwargs={}, response_metadata={})])"
      ]
     },
     "execution_count": 26,
     "metadata": {},
     "output_type": "execute_result"
    }
   ],
   "source": [
    "prompt = prompt_template.invoke({\"language\": \"Hindi\", \"text\": \"Hi!\"})\n",
    "prompt"
   ]
  },
  {
   "cell_type": "code",
   "execution_count": 29,
   "id": "e36e0ee8",
   "metadata": {},
   "outputs": [
    {
     "data": {
      "text/plain": [
       "[SystemMessage(content='Translate the following from English into Hindi', additional_kwargs={}, response_metadata={}),\n",
       " HumanMessage(content='Hi!', additional_kwargs={}, response_metadata={})]"
      ]
     },
     "execution_count": 29,
     "metadata": {},
     "output_type": "execute_result"
    }
   ],
   "source": [
    "prompt.to_messages()"
   ]
  },
  {
   "cell_type": "code",
   "execution_count": 30,
   "id": "f23adf11",
   "metadata": {},
   "outputs": [
    {
     "name": "stdout",
     "output_type": "stream",
     "text": [
      "नमस्ते! (Namaste!)\n",
      "\n",
      "You can also say:\n",
      "\n",
      "*   हेलो! (Hello!)\n",
      "*   नमस्कार! (Namaskar!)\n"
     ]
    }
   ],
   "source": [
    "response=model.invoke(prompt)\n",
    "print(response.content)"
   ]
  },
  {
   "cell_type": "code",
   "execution_count": 33,
   "id": "8d8f6b5e",
   "metadata": {},
   "outputs": [],
   "source": [
    "from langchain_core.prompts import ChatPromptTemplate, MessagesPlaceholder\n",
    "from langchain_core.messages import HumanMessage\n",
    "\n",
    "prompt_template = ChatPromptTemplate([\n",
    "    (\"system\", \"You are a helpful assistant\"),\n",
    "    MessagesPlaceholder(\"msgs\")\n",
    "])\n",
    "\n",
    "prompt = prompt_template.invoke({\"msgs\": [HumanMessage(content=\"how are you\")]})"
   ]
  },
  {
   "cell_type": "code",
   "execution_count": 34,
   "id": "a1fd68b0",
   "metadata": {},
   "outputs": [
    {
     "name": "stdout",
     "output_type": "stream",
     "text": [
      "I am doing well, thank you for asking! How can I help you today?\n"
     ]
    }
   ],
   "source": [
    "prompt.to_messages()\n",
    "response = model.invoke(prompt)\n",
    "print(response.content)"
   ]
  },
  {
   "cell_type": "code",
   "execution_count": 37,
   "id": "98c32dca",
   "metadata": {},
   "outputs": [],
   "source": [
    "prompt_template = ChatPromptTemplate([\n",
    "    (\"system\", \"You are a helpful assistant\"),\n",
    "    (\"placeholder\", \"{msgs}\")\n",
    "])\n",
    "\n",
    "prompt = prompt_template.invoke({\"msgs\": [HumanMessage(content=\"how are you\")]})"
   ]
  },
  {
   "cell_type": "code",
   "execution_count": 38,
   "id": "1111117f",
   "metadata": {},
   "outputs": [
    {
     "name": "stdout",
     "output_type": "stream",
     "text": [
      "I am doing well, thank you for asking! How are you today?\n"
     ]
    }
   ],
   "source": [
    "prompt.to_messages()\n",
    "response = model.invoke(prompt)\n",
    "print(response.content)"
   ]
  },
  {
   "cell_type": "code",
   "execution_count": 39,
   "id": "7ffc2fce",
   "metadata": {},
   "outputs": [
    {
     "name": "stdout",
     "output_type": "stream",
     "text": [
      "Requirement already satisfied: langchain-community in /home/chahar/miniconda3/envs/food/lib/python3.12/site-packages (0.3.25)\n",
      "Collecting pypdf\n",
      "  Downloading pypdf-5.6.0-py3-none-any.whl.metadata (7.2 kB)\n",
      "Requirement already satisfied: langchain-core<1.0.0,>=0.3.65 in /home/chahar/miniconda3/envs/food/lib/python3.12/site-packages (from langchain-community) (0.3.65)\n",
      "Requirement already satisfied: langchain<1.0.0,>=0.3.25 in /home/chahar/miniconda3/envs/food/lib/python3.12/site-packages (from langchain-community) (0.3.25)\n",
      "Requirement already satisfied: SQLAlchemy<3,>=1.4 in /home/chahar/miniconda3/envs/food/lib/python3.12/site-packages (from langchain-community) (2.0.41)\n",
      "Requirement already satisfied: requests<3,>=2 in /home/chahar/miniconda3/envs/food/lib/python3.12/site-packages (from langchain-community) (2.32.4)\n",
      "Requirement already satisfied: PyYAML>=5.3 in /home/chahar/miniconda3/envs/food/lib/python3.12/site-packages (from langchain-community) (6.0.2)\n",
      "Requirement already satisfied: aiohttp<4.0.0,>=3.8.3 in /home/chahar/miniconda3/envs/food/lib/python3.12/site-packages (from langchain-community) (3.12.12)\n",
      "Requirement already satisfied: tenacity!=8.4.0,<10,>=8.1.0 in /home/chahar/miniconda3/envs/food/lib/python3.12/site-packages (from langchain-community) (9.1.2)\n",
      "Requirement already satisfied: dataclasses-json<0.7,>=0.5.7 in /home/chahar/miniconda3/envs/food/lib/python3.12/site-packages (from langchain-community) (0.6.7)\n",
      "Requirement already satisfied: pydantic-settings<3.0.0,>=2.4.0 in /home/chahar/miniconda3/envs/food/lib/python3.12/site-packages (from langchain-community) (2.9.1)\n",
      "Requirement already satisfied: langsmith<0.4,>=0.1.125 in /home/chahar/miniconda3/envs/food/lib/python3.12/site-packages (from langchain-community) (0.3.45)\n",
      "Requirement already satisfied: httpx-sse<1.0.0,>=0.4.0 in /home/chahar/miniconda3/envs/food/lib/python3.12/site-packages (from langchain-community) (0.4.0)\n",
      "Requirement already satisfied: numpy>=1.26.2 in /home/chahar/miniconda3/envs/food/lib/python3.12/site-packages (from langchain-community) (2.3.0)\n",
      "Requirement already satisfied: aiohappyeyeballs>=2.5.0 in /home/chahar/miniconda3/envs/food/lib/python3.12/site-packages (from aiohttp<4.0.0,>=3.8.3->langchain-community) (2.6.1)\n",
      "Requirement already satisfied: aiosignal>=1.1.2 in /home/chahar/miniconda3/envs/food/lib/python3.12/site-packages (from aiohttp<4.0.0,>=3.8.3->langchain-community) (1.3.2)\n",
      "Requirement already satisfied: attrs>=17.3.0 in /home/chahar/miniconda3/envs/food/lib/python3.12/site-packages (from aiohttp<4.0.0,>=3.8.3->langchain-community) (25.3.0)\n",
      "Requirement already satisfied: frozenlist>=1.1.1 in /home/chahar/miniconda3/envs/food/lib/python3.12/site-packages (from aiohttp<4.0.0,>=3.8.3->langchain-community) (1.7.0)\n",
      "Requirement already satisfied: multidict<7.0,>=4.5 in /home/chahar/miniconda3/envs/food/lib/python3.12/site-packages (from aiohttp<4.0.0,>=3.8.3->langchain-community) (6.4.4)\n",
      "Requirement already satisfied: propcache>=0.2.0 in /home/chahar/miniconda3/envs/food/lib/python3.12/site-packages (from aiohttp<4.0.0,>=3.8.3->langchain-community) (0.3.2)\n",
      "Requirement already satisfied: yarl<2.0,>=1.17.0 in /home/chahar/miniconda3/envs/food/lib/python3.12/site-packages (from aiohttp<4.0.0,>=3.8.3->langchain-community) (1.20.1)\n",
      "Requirement already satisfied: marshmallow<4.0.0,>=3.18.0 in /home/chahar/miniconda3/envs/food/lib/python3.12/site-packages (from dataclasses-json<0.7,>=0.5.7->langchain-community) (3.26.1)\n",
      "Requirement already satisfied: typing-inspect<1,>=0.4.0 in /home/chahar/miniconda3/envs/food/lib/python3.12/site-packages (from dataclasses-json<0.7,>=0.5.7->langchain-community) (0.9.0)\n",
      "Requirement already satisfied: langchain-text-splitters<1.0.0,>=0.3.8 in /home/chahar/miniconda3/envs/food/lib/python3.12/site-packages (from langchain<1.0.0,>=0.3.25->langchain-community) (0.3.8)\n",
      "Requirement already satisfied: pydantic<3.0.0,>=2.7.4 in /home/chahar/miniconda3/envs/food/lib/python3.12/site-packages (from langchain<1.0.0,>=0.3.25->langchain-community) (2.11.5)\n",
      "Requirement already satisfied: jsonpatch<2.0,>=1.33 in /home/chahar/miniconda3/envs/food/lib/python3.12/site-packages (from langchain-core<1.0.0,>=0.3.65->langchain-community) (1.33)\n",
      "Requirement already satisfied: packaging<25,>=23.2 in /home/chahar/miniconda3/envs/food/lib/python3.12/site-packages (from langchain-core<1.0.0,>=0.3.65->langchain-community) (24.2)\n",
      "Requirement already satisfied: typing-extensions>=4.7 in /home/chahar/miniconda3/envs/food/lib/python3.12/site-packages (from langchain-core<1.0.0,>=0.3.65->langchain-community) (4.14.0)\n",
      "Requirement already satisfied: jsonpointer>=1.9 in /home/chahar/miniconda3/envs/food/lib/python3.12/site-packages (from jsonpatch<2.0,>=1.33->langchain-core<1.0.0,>=0.3.65->langchain-community) (3.0.0)\n",
      "Requirement already satisfied: httpx<1,>=0.23.0 in /home/chahar/miniconda3/envs/food/lib/python3.12/site-packages (from langsmith<0.4,>=0.1.125->langchain-community) (0.28.1)\n",
      "Requirement already satisfied: orjson<4.0.0,>=3.9.14 in /home/chahar/miniconda3/envs/food/lib/python3.12/site-packages (from langsmith<0.4,>=0.1.125->langchain-community) (3.10.18)\n",
      "Requirement already satisfied: requests-toolbelt<2.0.0,>=1.0.0 in /home/chahar/miniconda3/envs/food/lib/python3.12/site-packages (from langsmith<0.4,>=0.1.125->langchain-community) (1.0.0)\n",
      "Requirement already satisfied: zstandard<0.24.0,>=0.23.0 in /home/chahar/miniconda3/envs/food/lib/python3.12/site-packages (from langsmith<0.4,>=0.1.125->langchain-community) (0.23.0)\n",
      "Requirement already satisfied: anyio in /home/chahar/miniconda3/envs/food/lib/python3.12/site-packages (from httpx<1,>=0.23.0->langsmith<0.4,>=0.1.125->langchain-community) (4.9.0)\n",
      "Requirement already satisfied: certifi in /home/chahar/miniconda3/envs/food/lib/python3.12/site-packages (from httpx<1,>=0.23.0->langsmith<0.4,>=0.1.125->langchain-community) (2025.4.26)\n",
      "Requirement already satisfied: httpcore==1.* in /home/chahar/miniconda3/envs/food/lib/python3.12/site-packages (from httpx<1,>=0.23.0->langsmith<0.4,>=0.1.125->langchain-community) (1.0.9)\n",
      "Requirement already satisfied: idna in /home/chahar/miniconda3/envs/food/lib/python3.12/site-packages (from httpx<1,>=0.23.0->langsmith<0.4,>=0.1.125->langchain-community) (3.10)\n",
      "Requirement already satisfied: h11>=0.16 in /home/chahar/miniconda3/envs/food/lib/python3.12/site-packages (from httpcore==1.*->httpx<1,>=0.23.0->langsmith<0.4,>=0.1.125->langchain-community) (0.16.0)\n",
      "Requirement already satisfied: annotated-types>=0.6.0 in /home/chahar/miniconda3/envs/food/lib/python3.12/site-packages (from pydantic<3.0.0,>=2.7.4->langchain<1.0.0,>=0.3.25->langchain-community) (0.7.0)\n",
      "Requirement already satisfied: pydantic-core==2.33.2 in /home/chahar/miniconda3/envs/food/lib/python3.12/site-packages (from pydantic<3.0.0,>=2.7.4->langchain<1.0.0,>=0.3.25->langchain-community) (2.33.2)\n",
      "Requirement already satisfied: typing-inspection>=0.4.0 in /home/chahar/miniconda3/envs/food/lib/python3.12/site-packages (from pydantic<3.0.0,>=2.7.4->langchain<1.0.0,>=0.3.25->langchain-community) (0.4.1)\n",
      "Requirement already satisfied: python-dotenv>=0.21.0 in /home/chahar/miniconda3/envs/food/lib/python3.12/site-packages (from pydantic-settings<3.0.0,>=2.4.0->langchain-community) (1.1.0)\n",
      "Requirement already satisfied: charset_normalizer<4,>=2 in /home/chahar/miniconda3/envs/food/lib/python3.12/site-packages (from requests<3,>=2->langchain-community) (3.4.2)\n",
      "Requirement already satisfied: urllib3<3,>=1.21.1 in /home/chahar/miniconda3/envs/food/lib/python3.12/site-packages (from requests<3,>=2->langchain-community) (2.4.0)\n",
      "Requirement already satisfied: greenlet>=1 in /home/chahar/miniconda3/envs/food/lib/python3.12/site-packages (from SQLAlchemy<3,>=1.4->langchain-community) (3.2.3)\n",
      "Requirement already satisfied: mypy-extensions>=0.3.0 in /home/chahar/miniconda3/envs/food/lib/python3.12/site-packages (from typing-inspect<1,>=0.4.0->dataclasses-json<0.7,>=0.5.7->langchain-community) (1.1.0)\n",
      "Requirement already satisfied: sniffio>=1.1 in /home/chahar/miniconda3/envs/food/lib/python3.12/site-packages (from anyio->httpx<1,>=0.23.0->langsmith<0.4,>=0.1.125->langchain-community) (1.3.1)\n",
      "Downloading pypdf-5.6.0-py3-none-any.whl (304 kB)\n",
      "Installing collected packages: pypdf\n",
      "Successfully installed pypdf-5.6.0\n"
     ]
    }
   ],
   "source": [
    "!pip install langchain-community pypdf"
   ]
  },
  {
   "cell_type": "code",
   "execution_count": 40,
   "id": "de8a0d96",
   "metadata": {},
   "outputs": [],
   "source": [
    "from langchain_core.documents import Document\n",
    "\n",
    "documents= [Document(page_content=\"LLMs are deep learning mdoels used for wide range of language realted tasks such as text generation, translation etc..\",metadata={\"source\":\"machine-learning_doc\"},),Document(page_content=\"New LLMs are able to work on various different things then text like audio, video, images etc..\",metadata={\"source\":\"Machine-learning-doc\"},),]"
   ]
  },
  {
   "cell_type": "code",
   "execution_count": null,
   "id": "d0f62cf8",
   "metadata": {},
   "outputs": [
    {
     "name": "stdout",
     "output_type": "stream",
     "text": [
      "107\n"
     ]
    }
   ],
   "source": [
    "from langchain_community.document_loaders import PyPDFLoader\n",
    "\n",
    "file_path = \"data/nke-10k-2023.pdf\"\n",
    "loader = PyPDFLoader(file_path)\n",
    "\n",
    "docs = loader.load()\n",
    "\n",
    "print(len(docs))"
   ]
  },
  {
   "cell_type": "code",
   "execution_count": 49,
   "id": "6d73b6f8",
   "metadata": {},
   "outputs": [
    {
     "name": "stdout",
     "output_type": "stream",
     "text": [
      "Table of Contents\n",
      "UNITED STATES\n",
      "SECURITIES AND EXCHANGE COMMISSION\n",
      "Washington, D.C. 20549\n",
      "FORM 10-K\n",
      "(Mark One)\n",
      "☑  ANNUAL REPORT PURSUANT TO SECTION 13 OR 15(D) OF THE SECURITIES EXCHANGE ACT OF 1934\n",
      "FOR THE FIS\n",
      "\n",
      "{'producer': 'EDGRpdf Service w/ EO.Pdf 22.0.40.0', 'creator': 'EDGAR Filing HTML Converter', 'creationdate': '2023-07-20T16:22:00-04:00', 'title': '0000320187-23-000039', 'author': 'EDGAR Online, a division of Donnelley Financial Solutions', 'subject': 'Form 10-K filed on 2023-07-20 for the period ending 2023-05-31', 'keywords': '0000320187-23-000039; ; 10-K', 'moddate': '2023-07-20T16:22:08-04:00', 'source': 'data/nke-10k-2023.pdf', 'total_pages': 107, 'page': 0, 'page_label': '1'}\n"
     ]
    }
   ],
   "source": [
    "print(f\"{docs[0].page_content[:210]}\\n\")\n",
    "print(docs[0].metadata)"
   ]
  },
  {
   "cell_type": "code",
   "execution_count": 50,
   "id": "b57a58f7",
   "metadata": {},
   "outputs": [
    {
     "data": {
      "text/plain": [
       "516"
      ]
     },
     "execution_count": 50,
     "metadata": {},
     "output_type": "execute_result"
    }
   ],
   "source": [
    "from langchain_text_splitters import RecursiveCharacterTextSplitter\n",
    "\n",
    "text_splitter = RecursiveCharacterTextSplitter(chunk_size=1000, chunk_overlap=200, add_start_index=True)\n",
    "all_splits = text_splitter.split_documents(docs)\n",
    "len(all_splits)"
   ]
  },
  {
   "cell_type": "markdown",
   "id": "07b361c8",
   "metadata": {},
   "source": [
    "Basics for FastAPI (Learning from fastapi)"
   ]
  },
  {
   "cell_type": "code",
   "execution_count": null,
   "id": "5dee924c",
   "metadata": {},
   "outputs": [
    {
     "name": "stdout",
     "output_type": "stream",
     "text": [
      "Varun Chahar\n"
     ]
    }
   ],
   "source": [
    "def get_full_name(first_name: str, last_name: str):\n",
    "    full_name = first_name.title() + \" \" + last_name.title() #.title() converts first letter of each to upper case\n",
    "    return full_name\n",
    "\n",
    "print(get_full_name(\"Varun\", \"Chahar\"))"
   ]
  },
  {
   "cell_type": "code",
   "execution_count": 5,
   "id": "0898f199",
   "metadata": {},
   "outputs": [
    {
     "name": "stdout",
     "output_type": "stream",
     "text": [
      "Varun Chahar is this old:26\n"
     ]
    }
   ],
   "source": [
    "def get_name_with_age(name:str,age:int):\n",
    "    name_with_age = name + \" is this old:\" + str(age)\n",
    "    return name_with_age\n",
    "print(get_name_with_age(\"Varun Chahar\", 26)) "
   ]
  },
  {
   "cell_type": "markdown",
   "id": "67c352c6",
   "metadata": {},
   "source": [
    "creating 100 images subset from food101"
   ]
  },
  {
   "cell_type": "code",
   "execution_count": 3,
   "id": "b51c45f7",
   "metadata": {},
   "outputs": [
    {
     "name": "stdout",
     "output_type": "stream",
     "text": [
      "✅ Copied: french_fries_847042.jpg\n",
      "✅ Copied: ramen_1753531.jpg\n",
      "✅ Copied: churros_3407050.jpg\n",
      "✅ Copied: fried_calamari_700398.jpg\n",
      "✅ Copied: tuna_tartare_108172.jpg\n",
      "✅ Copied: deviled_eggs_2011962.jpg\n",
      "✅ Copied: crab_cakes_1598415.jpg\n",
      "✅ Copied: risotto_2600829.jpg\n",
      "✅ Copied: pork_chop_328952.jpg\n",
      "✅ Copied: chocolate_cake_1499703.jpg\n",
      "✅ Copied: french_onion_soup_2849788.jpg\n",
      "✅ Copied: sashimi_548609.jpg\n",
      "✅ Copied: huevos_rancheros_556958.jpg\n",
      "✅ Copied: pho_605044.jpg\n",
      "✅ Copied: pulled_pork_sandwich_1827738.jpg\n",
      "✅ Copied: frozen_yogurt_3349780.jpg\n",
      "✅ Copied: pizza_3475936.jpg\n",
      "✅ Copied: chicken_quesadilla_2618613.jpg\n",
      "✅ Copied: spaghetti_bolognese_2919708.jpg\n",
      "✅ Copied: samosa_2552167.jpg\n",
      "✅ Copied: chocolate_mousse_1649877.jpg\n",
      "✅ Copied: shrimp_and_grits_326631.jpg\n",
      "✅ Copied: caesar_salad_1960668.jpg\n",
      "✅ Copied: hummus_3918984.jpg\n",
      "✅ Copied: sushi_2634094.jpg\n",
      "✅ Copied: falafel_2505714.jpg\n",
      "✅ Copied: panna_cotta_3100875.jpg\n",
      "✅ Copied: prime_rib_2781154.jpg\n",
      "✅ Copied: takoyaki_606683.jpg\n",
      "✅ Copied: bread_pudding_3273968.jpg\n",
      "✅ Copied: macaroni_and_cheese_1171504.jpg\n",
      "✅ Copied: red_velvet_cake_367987.jpg\n",
      "✅ Copied: apple_pie_3805050.jpg\n",
      "✅ Copied: ceviche_2211019.jpg\n",
      "✅ Copied: chicken_curry_314160.jpg\n",
      "✅ Copied: garlic_bread_2842958.jpg\n",
      "✅ Copied: paella_1689036.jpg\n",
      "✅ Copied: hamburger_3490968.jpg\n",
      "✅ Copied: macarons_455498.jpg\n",
      "✅ Copied: oysters_89248.jpg\n",
      "✅ Copied: caprese_salad_740351.jpg\n",
      "✅ Copied: escargots_3662747.jpg\n",
      "✅ Copied: cannoli_3538625.jpg\n",
      "✅ Copied: strawberry_shortcake_3728658.jpg\n",
      "✅ Copied: clam_chowder_1358158.jpg\n",
      "✅ Copied: spring_rolls_3692298.jpg\n",
      "✅ Copied: greek_salad_2984922.jpg\n",
      "✅ Copied: foie_gras_3678359.jpg\n",
      "✅ Copied: nachos_2945420.jpg\n",
      "✅ Copied: miso_soup_2230776.jpg\n",
      "✅ Copied: fish_and_chips_2689020.jpg\n",
      "✅ Copied: hot_and_sour_soup_2948031.jpg\n",
      "✅ Copied: cheesecake_1988927.jpg\n",
      "✅ Copied: steak_1870942.jpg\n",
      "✅ Copied: seaweed_salad_2758194.jpg\n",
      "✅ Copied: bruschetta_2795103.jpg\n",
      "✅ Copied: carrot_cake_2210505.jpg\n",
      "✅ Copied: creme_brulee_690871.jpg\n",
      "✅ Copied: hot_dog_551784.jpg\n",
      "✅ Copied: lobster_bisque_3520107.jpg\n",
      "✅ Copied: bibimbap_1799492.jpg\n",
      "✅ Copied: beignets_736858.jpg\n",
      "✅ Copied: grilled_cheese_sandwich_197743.jpg\n",
      "✅ Copied: lasagna_1490239.jpg\n",
      "✅ Copied: tiramisu_3311589.jpg\n",
      "✅ Copied: chicken_wings_50409.jpg\n",
      "✅ Copied: mussels_2203856.jpg\n",
      "✅ Copied: dumplings_1379343.jpg\n",
      "✅ Copied: club_sandwich_1523091.jpg\n",
      "✅ Copied: waffles_551174.jpg\n",
      "✅ Copied: cheese_plate_2915249.jpg\n",
      "✅ Copied: scallops_2358756.jpg\n",
      "✅ Copied: pancakes_441504.jpg\n",
      "✅ Copied: donuts_3280234.jpg\n",
      "✅ Copied: croque_madame_1009303.jpg\n",
      "✅ Copied: pad_thai_1842995.jpg\n",
      "✅ Copied: tacos_1635285.jpg\n",
      "✅ Copied: peking_duck_2595555.jpg\n",
      "✅ Copied: baklava_3841998.jpg\n",
      "✅ Copied: spaghetti_carbonara_3210760.jpg\n",
      "✅ Copied: gyoza_112924.jpg\n",
      "✅ Copied: filet_mignon_1762785.jpg\n",
      "✅ Copied: lobster_roll_sandwich_2183270.jpg\n",
      "✅ Copied: french_toast_3808245.jpg\n",
      "✅ Copied: guacamole_81779.jpg\n",
      "✅ Copied: edamame_922834.jpg\n",
      "✅ Copied: fried_rice_1868954.jpg\n",
      "✅ Copied: beet_salad_2188699.jpg\n",
      "✅ Copied: onion_rings_1460832.jpg\n",
      "✅ Copied: beef_tartare_2135514.jpg\n",
      "✅ Copied: cup_cakes_247962.jpg\n",
      "✅ Copied: ravioli_1845476.jpg\n",
      "✅ Copied: grilled_salmon_559544.jpg\n",
      "✅ Copied: eggs_benedict_123500.jpg\n",
      "✅ Copied: poutine_2389967.jpg\n",
      "✅ Copied: breakfast_burrito_1011544.jpg\n",
      "✅ Copied: baby_back_ribs_1635329.jpg\n",
      "✅ Copied: beef_carpaccio_560933.jpg\n",
      "✅ Copied: ice_cream_2309908.jpg\n",
      "✅ Copied: omelette_3001775.jpg\n"
     ]
    }
   ],
   "source": [
    "import os\n",
    "import shutil\n",
    "import random\n",
    "import csv\n",
    "from collections import defaultdict\n",
    "\n",
    "# ✅ Your Food-101 path in WSL\n",
    "data_root = \"/mnt/c/Users/User/Downloads/food-101/food-101\"\n",
    "image_root = os.path.join(data_root, \"images\")\n",
    "train_txt_path = os.path.join(data_root, \"meta\", \"train.txt\")\n",
    "\n",
    "# ✅ Output location\n",
    "subset_dir = \"./food-100-subset\"\n",
    "metadata_file = os.path.join(subset_dir, \"metadata.csv\")\n",
    "\n",
    "os.makedirs(subset_dir, exist_ok=True)\n",
    "\n",
    "# ✅ Read all train samples and group by class\n",
    "class_to_images = defaultdict(list)\n",
    "with open(train_txt_path, \"r\") as f:\n",
    "    for line in f:\n",
    "        class_name, image_id = line.strip().split(\"/\")\n",
    "        class_to_images[class_name].append(image_id)\n",
    "\n",
    "# ✅ Randomly select 100 different classes\n",
    "selected_classes = random.sample(list(class_to_images.keys()), 100)\n",
    "\n",
    "# ✅ Write selected images and metadata\n",
    "with open(metadata_file, \"w\", newline=\"\") as csvfile:\n",
    "    writer = csv.writer(csvfile)\n",
    "    writer.writerow([\"image_filename\", \"class_name\"])\n",
    "\n",
    "    for class_name in selected_classes:\n",
    "        image_id = random.choice(class_to_images[class_name])\n",
    "        src_img = os.path.join(image_root, class_name, image_id + \".jpg\")\n",
    "        dest_img_name = f\"{class_name}_{image_id}.jpg\"\n",
    "        dest_img_path = os.path.join(subset_dir, dest_img_name)\n",
    "\n",
    "        try:\n",
    "            shutil.copy(src_img, dest_img_path)\n",
    "            writer.writerow([dest_img_name, class_name])\n",
    "            print(f\"✅ Copied: {dest_img_name}\")\n",
    "        except Exception as e:\n",
    "            print(f\"❌ Failed: {src_img} — {e}\")\n"
   ]
  }
 ],
 "metadata": {
  "kernelspec": {
   "display_name": "food",
   "language": "python",
   "name": "python3"
  },
  "language_info": {
   "codemirror_mode": {
    "name": "ipython",
    "version": 3
   },
   "file_extension": ".py",
   "mimetype": "text/x-python",
   "name": "python",
   "nbconvert_exporter": "python",
   "pygments_lexer": "ipython3",
   "version": "3.12.11"
  }
 },
 "nbformat": 4,
 "nbformat_minor": 5
}

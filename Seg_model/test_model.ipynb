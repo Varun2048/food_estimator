{
 "cells": [
  {
   "cell_type": "code",
   "execution_count": 4,
   "id": "adfa6ec8",
   "metadata": {},
   "outputs": [
    {
     "name": "stdout",
     "output_type": "stream",
     "text": [
      " The image shows a hot dog, specifically a footlong chili cheese dog with mustard and relish.\n",
      "\n",
      "Quantity: 1\n",
      "\n",
      "Per-item macros:\n",
      "Calories: Approximately 900 calories (calculated using average values for a footlong chili cheese dog)\n",
      "Protein: Approximately 35g (from the hot dog, chili, and cheese)\n",
      "Carbohydrates: Approximately 100g (from the bun)\n",
      "Fat: Approximately 40g (from the bacon, chili, and cheese)\n",
      "\n",
      "Total macros for 1 footlong chili cheese dog with mustard and relish:\n",
      "Calories: 900\n",
      "Protein: 35g\n",
      "Carbohydrates: 100g\n",
      "Fat: 40g \n"
     ]
    }
   ],
   "source": [
    "import base64\n",
    "import requests\n",
    "\n",
    "# Convert image to base64\n",
    "def image_to_base64(image_path):\n",
    "    with open(image_path, \"rb\") as img:\n",
    "        return base64.b64encode(img.read()).decode(\"utf-8\")\n",
    "\n",
    "# Your overlay or raw image\n",
    "image_path = \"segmented_overlay.jpg\"\n",
    "image_b64 = image_to_base64(image_path)\n",
    "\n",
    "# Craft your food + macro prompt\n",
    "prompt = (\n",
    "    \"Only list food items you are 100% confident are present in this image. \"\n",
    "    \"Do NOT guess or hallucinate.  \"\n",
    "    \"For each item, provide:Quantity (e.g., 1 banana, 2 cups rice),  Per-item macros (calories, protein, carbs, fat), Then multiply for the quantity and give totals.\"\n",
    ")\n",
    "\n",
    "# Send to LLaVA via Ollama\n",
    "response = requests.post(\n",
    "    \"http://localhost:11434/api/generate\",\n",
    "    json={\n",
    "        \"model\": \"llava\",\n",
    "        \"prompt\": prompt,\n",
    "        \"images\": [image_b64],\n",
    "        \"stream\": False\n",
    "    }\n",
    ")\n",
    "\n",
    "# Display response\n",
    "print(response.json()[\"response\"])\n"
   ]
  }
 ],
 "metadata": {
  "kernelspec": {
   "display_name": "food",
   "language": "python",
   "name": "python3"
  },
  "language_info": {
   "codemirror_mode": {
    "name": "ipython",
    "version": 3
   },
   "file_extension": ".py",
   "mimetype": "text/x-python",
   "name": "python",
   "nbconvert_exporter": "python",
   "pygments_lexer": "ipython3",
   "version": "3.12.11"
  }
 },
 "nbformat": 4,
 "nbformat_minor": 5
}

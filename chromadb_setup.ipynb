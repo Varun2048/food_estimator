{
 "cells": [
  {
   "cell_type": "markdown",
   "id": "43d2babc",
   "metadata": {},
   "source": [
    "ChromaDB Setup"
   ]
  },
  {
   "cell_type": "code",
   "execution_count": 1,
   "id": "a2a598a3",
   "metadata": {},
   "outputs": [],
   "source": [
    "import os\n",
    "from dotenv import load_dotenv\n",
    "load_dotenv()\n",
    "\n",
    "if not os.environ.get(\"GROQ_API_KEY\"):\n",
    "    raise RuntimeError(\"GROQ_API_KEY not found in environment\")"
   ]
  },
  {
   "cell_type": "code",
   "execution_count": 2,
   "id": "cd00241b",
   "metadata": {},
   "outputs": [],
   "source": [
    "import chromadb\n",
    "from chromadb.config import Settings\n",
    "\n",
    "chroma_settings = Settings(persist_directory=\"./chroma_db\")\n",
    "client = chromadb.Client(settings=chroma_settings)\n",
    "collection = client.get_or_create_collection(name=\"food_info\")"
   ]
  },
  {
   "cell_type": "code",
   "execution_count": 3,
   "id": "4bbe88d8",
   "metadata": {},
   "outputs": [
    {
     "name": "stderr",
     "output_type": "stream",
     "text": [
      "/tmp/ipykernel_18046/3186043211.py:3: LangChainDeprecationWarning: The class `HuggingFaceEmbeddings` was deprecated in LangChain 0.2.2 and will be removed in 1.0. An updated version of the class exists in the :class:`~langchain-huggingface package and should be used instead. To use it run `pip install -U :class:`~langchain-huggingface` and import as `from :class:`~langchain_huggingface import HuggingFaceEmbeddings``.\n",
      "  embedder = HuggingFaceEmbeddings(model_name=\"sentence-transformers/all-MiniLM-L6-v2\")\n",
      "/home/chahar/miniconda3/envs/food/lib/python3.12/site-packages/tqdm/auto.py:21: TqdmWarning: IProgress not found. Please update jupyter and ipywidgets. See https://ipywidgets.readthedocs.io/en/stable/user_install.html\n",
      "  from .autonotebook import tqdm as notebook_tqdm\n"
     ]
    }
   ],
   "source": [
    "#Generate embeddings using HuggingFace\n",
    "from langchain.embeddings import HuggingFaceEmbeddings\n",
    "embedder = HuggingFaceEmbeddings(model_name=\"sentence-transformers/all-MiniLM-L6-v2\")"
   ]
  },
  {
   "cell_type": "markdown",
   "id": "627d7e57",
   "metadata": {},
   "source": [
    "sample data"
   ]
  },
  {
   "cell_type": "code",
   "execution_count": 4,
   "id": "4dc8e2c8",
   "metadata": {},
   "outputs": [],
   "source": [
    "docs = [\n",
    "    \"Apple: 95 kcal, 0.3 g fat, 0.5 g protein\",\n",
    "    \"Banana: 105 kcal, 0.4 g fat, 1.3 g protein\"\n",
    "]\n",
    "metas = [{\"food\": \"apple\"}, {\"food\": \"banana\"}]\n",
    "ids = [\"apple_1\", \"banana_1\"]"
   ]
  },
  {
   "cell_type": "markdown",
   "id": "c094a714",
   "metadata": {},
   "source": [
    "adding to chroma"
   ]
  },
  {
   "cell_type": "code",
   "execution_count": 6,
   "id": "615ea7a5",
   "metadata": {},
   "outputs": [],
   "source": [
    "embs = embedder.embed_documents(docs)\n",
    "collection.add(\n",
    "    documents=docs,\n",
    "    embeddings=embs,\n",
    "    metadatas=metas,\n",
    "    ids=ids,\n",
    ")"
   ]
  },
  {
   "cell_type": "markdown",
   "id": "f446895f",
   "metadata": {},
   "source": [
    "using langchain to connect chroma vector store"
   ]
  },
  {
   "cell_type": "code",
   "execution_count": 7,
   "id": "5bd437a1",
   "metadata": {},
   "outputs": [
    {
     "name": "stderr",
     "output_type": "stream",
     "text": [
      "/tmp/ipykernel_18046/3542922873.py:3: LangChainDeprecationWarning: The class `Chroma` was deprecated in LangChain 0.2.9 and will be removed in 1.0. An updated version of the class exists in the :class:`~langchain-chroma package and should be used instead. To use it run `pip install -U :class:`~langchain-chroma` and import as `from :class:`~langchain_chroma import Chroma``.\n",
      "  vectorstore = LCChroma(\n"
     ]
    }
   ],
   "source": [
    "from langchain.vectorstores import Chroma as LCChroma\n",
    "\n",
    "vectorstore = LCChroma(\n",
    "    persist_directory=\"./chroma_db\",\n",
    "    collection_name=\"food_info\",\n",
    "    embedding_function=embedder,\n",
    ")\n",
    "\n",
    "retriever = vectorstore.as_retriever(search_kwargs={\"k\": 1})"
   ]
  },
  {
   "cell_type": "code",
   "execution_count": 16,
   "id": "f694e8de",
   "metadata": {},
   "outputs": [],
   "source": [
    "from langchain.llms import OpenAI\n",
    "from langchain.chat_models import init_chat_model\n",
    "llm = init_chat_model(\n",
    "    model=\"llama3-8b-8192\", \n",
    "    model_provider=\"groq\",\n",
    "    temperature=0.2,\n",
    "    max_tokens=256\n",
    ")\n"
   ]
  },
  {
   "cell_type": "markdown",
   "id": "076b3647",
   "metadata": {},
   "source": [
    "creating retrievalQA chain"
   ]
  },
  {
   "cell_type": "code",
   "execution_count": 13,
   "id": "f4c14e0f",
   "metadata": {},
   "outputs": [],
   "source": [
    "from langchain.chains import RetrievalQA\n",
    "from langchain.prompts import PromptTemplate\n",
    "\n",
    "custom_prompt = PromptTemplate.from_template(\"\"\"\n",
    "Use only the following context to answer the question as briefly and factually as possible.\n",
    "If the answer is numerical or specific, quote it exactly.\n",
    "\n",
    "Context:\n",
    "{context}\n",
    "\n",
    "Question: {question}\n",
    "Answer:\n",
    "\"\"\")\n",
    "\n",
    "qa_chain = RetrievalQA.from_chain_type(\n",
    "    llm=llm,\n",
    "    retriever=retriever,\n",
    "    chain_type=\"stuff\",  # default, but explicit\n",
    "    chain_type_kwargs={\"prompt\": custom_prompt}\n",
    ")\n"
   ]
  },
  {
   "cell_type": "code",
   "execution_count": 17,
   "id": "57c5c18f",
   "metadata": {},
   "outputs": [
    {
     "name": "stdout",
     "output_type": "stream",
     "text": [
      "🧠 Answer: According to the United States Department of Agriculture (USDA), one medium-sized banana (approximately 100g) contains 105 calories (kcal).\n"
     ]
    }
   ],
   "source": [
    "query = \"How many kcal are there in bananas?\"\n",
    "answer = qa_chain.run(query)\n",
    "print(\"🧠 Answer:\", answer)"
   ]
  },
  {
   "cell_type": "markdown",
   "id": "76ce14bd",
   "metadata": {},
   "source": [
    "## Creating vector embeddings of our 101 food images"
   ]
  },
  {
   "cell_type": "code",
   "execution_count": 2,
   "id": "f1ba4860",
   "metadata": {},
   "outputs": [],
   "source": [
    "import os\n",
    "from PIL import Image\n",
    "import torch\n",
    "from transformers import CLIPProcessor, CLIPModel\n",
    "import chromadb\n",
    "from chromadb.config import Settings\n",
    "\n",
    "# Load CLIP model\n",
    "model = CLIPModel.from_pretrained(\"openai/clip-vit-base-patch32\")\n",
    "processor = CLIPProcessor.from_pretrained(\"openai/clip-vit-base-patch32\")"
   ]
  },
  {
   "cell_type": "code",
   "execution_count": 4,
   "id": "d09fd5ad",
   "metadata": {},
   "outputs": [],
   "source": [
    "import chromadb\n",
    "\n",
    "# Use new client setup with persist directory\n",
    "chroma_client = chromadb.PersistentClient(path=\"./chroma_db\")\n",
    "\n",
    "# Get or create a collection\n",
    "collection = chroma_client.get_or_create_collection(\"food_embeddings\")\n"
   ]
  },
  {
   "cell_type": "code",
   "execution_count": 6,
   "id": "1e2169bf",
   "metadata": {},
   "outputs": [
    {
     "name": "stdout",
     "output_type": "stream",
     "text": [
      "✅ Embedded: macarons_455498.jpg\n",
      "✅ Embedded: gyoza_112924.jpg\n",
      "✅ Embedded: seaweed_salad_2758194.jpg\n",
      "✅ Embedded: peking_duck_2595555.jpg\n",
      "✅ Embedded: chicken_wings_50409.jpg\n",
      "✅ Embedded: lobster_bisque_3520107.jpg\n",
      "✅ Embedded: takoyaki_606683.jpg\n",
      "✅ Embedded: eggs_benedict_123500.jpg\n",
      "✅ Embedded: lobster_roll_sandwich_2183270.jpg\n",
      "✅ Embedded: cheese_plate_2915249.jpg\n",
      "✅ Embedded: clam_chowder_1358158.jpg\n",
      "✅ Embedded: oysters_89248.jpg\n",
      "✅ Embedded: chocolate_mousse_1649877.jpg\n",
      "✅ Embedded: baby_back_ribs_1635329.jpg\n",
      "✅ Embedded: chocolate_cake_1499703.jpg\n",
      "✅ Embedded: beef_tartare_2135514.jpg\n",
      "✅ Embedded: ceviche_2211019.jpg\n",
      "✅ Embedded: spring_rolls_3692298.jpg\n",
      "✅ Embedded: steak_1870942.jpg\n",
      "✅ Embedded: macaroni_and_cheese_1171504.jpg\n",
      "✅ Embedded: nachos_2945420.jpg\n",
      "✅ Embedded: carrot_cake_2210505.jpg\n",
      "✅ Embedded: omelette_3001775.jpg\n",
      "✅ Embedded: lasagna_1490239.jpg\n",
      "✅ Embedded: hummus_3918984.jpg\n",
      "✅ Embedded: prime_rib_2781154.jpg\n",
      "✅ Embedded: hamburger_3490968.jpg\n",
      "✅ Embedded: deviled_eggs_2011962.jpg\n",
      "✅ Embedded: paella_1689036.jpg\n",
      "✅ Embedded: chicken_curry_314160.jpg\n",
      "✅ Embedded: donuts_3280234.jpg\n",
      "✅ Embedded: baklava_3841998.jpg\n",
      "✅ Embedded: scallops_2358756.jpg\n",
      "✅ Embedded: risotto_2600829.jpg\n",
      "✅ Embedded: samosa_2552167.jpg\n",
      "✅ Embedded: strawberry_shortcake_3728658.jpg\n",
      "✅ Embedded: frozen_yogurt_3349780.jpg\n",
      "✅ Embedded: red_velvet_cake_367987.jpg\n",
      "✅ Embedded: tacos_1635285.jpg\n",
      "✅ Embedded: huevos_rancheros_556958.jpg\n",
      "✅ Embedded: dumplings_1379343.jpg\n",
      "✅ Embedded: cup_cakes_247962.jpg\n",
      "✅ Embedded: ice_cream_2309908.jpg\n",
      "✅ Embedded: poutine_2389967.jpg\n",
      "✅ Embedded: ravioli_1845476.jpg\n",
      "✅ Embedded: spaghetti_carbonara_3210760.jpg\n",
      "✅ Embedded: apple_pie_3805050.jpg\n",
      "✅ Embedded: beet_salad_2188699.jpg\n",
      "✅ Embedded: mussels_2203856.jpg\n",
      "✅ Embedded: waffles_551174.jpg\n",
      "✅ Embedded: sushi_2634094.jpg\n",
      "✅ Embedded: cannoli_3538625.jpg\n",
      "✅ Embedded: panna_cotta_3100875.jpg\n",
      "✅ Embedded: spaghetti_bolognese_2919708.jpg\n",
      "✅ Embedded: french_onion_soup_2849788.jpg\n",
      "✅ Embedded: escargots_3662747.jpg\n",
      "✅ Embedded: garlic_bread_2842958.jpg\n",
      "✅ Embedded: croque_madame_1009303.jpg\n",
      "✅ Embedded: bibimbap_1799492.jpg\n",
      "✅ Embedded: guacamole_81779.jpg\n",
      "✅ Embedded: pizza_3475936.jpg\n",
      "✅ Embedded: cheesecake_1988927.jpg\n",
      "✅ Embedded: fried_calamari_700398.jpg\n",
      "✅ Embedded: bread_pudding_3273968.jpg\n",
      "✅ Embedded: falafel_2505714.jpg\n",
      "✅ Embedded: hot_and_sour_soup_2948031.jpg\n",
      "✅ Embedded: fish_and_chips_2689020.jpg\n",
      "✅ Embedded: greek_salad_2984922.jpg\n",
      "✅ Embedded: foie_gras_3678359.jpg\n",
      "✅ Embedded: fried_rice_1868954.jpg\n",
      "✅ Embedded: churros_3407050.jpg\n",
      "✅ Embedded: pad_thai_1842995.jpg\n",
      "✅ Embedded: bruschetta_2795103.jpg\n",
      "✅ Embedded: grilled_salmon_559544.jpg\n",
      "✅ Embedded: grilled_cheese_sandwich_197743.jpg\n",
      "✅ Embedded: pho_605044.jpg\n",
      "✅ Embedded: pancakes_441504.jpg\n",
      "✅ Embedded: club_sandwich_1523091.jpg\n",
      "✅ Embedded: french_fries_847042.jpg\n",
      "✅ Embedded: tuna_tartare_108172.jpg\n",
      "✅ Embedded: shrimp_and_grits_326631.jpg\n",
      "✅ Embedded: crab_cakes_1598415.jpg\n",
      "✅ Embedded: edamame_922834.jpg\n",
      "✅ Embedded: beef_carpaccio_560933.jpg\n",
      "✅ Embedded: onion_rings_1460832.jpg\n",
      "✅ Embedded: caesar_salad_1960668.jpg\n",
      "✅ Embedded: caprese_salad_740351.jpg\n",
      "✅ Embedded: french_toast_3808245.jpg\n",
      "✅ Embedded: pulled_pork_sandwich_1827738.jpg\n",
      "✅ Embedded: miso_soup_2230776.jpg\n",
      "✅ Embedded: breakfast_burrito_1011544.jpg\n",
      "✅ Embedded: filet_mignon_1762785.jpg\n",
      "✅ Embedded: chicken_quesadilla_2618613.jpg\n",
      "✅ Embedded: pork_chop_328952.jpg\n",
      "✅ Embedded: creme_brulee_690871.jpg\n",
      "✅ Embedded: sashimi_548609.jpg\n",
      "✅ Embedded: tiramisu_3311589.jpg\n",
      "✅ Embedded: ramen_1753531.jpg\n",
      "✅ Embedded: hot_dog_551784.jpg\n",
      "✅ Embedded: beignets_736858.jpg\n"
     ]
    }
   ],
   "source": [
    "# Use existing ChromaDB directory\n",
    "chroma_client = chromadb.PersistentClient(path=\"./chroma_db\")\n",
    "collection = chroma_client.get_or_create_collection(\"food_embeddings\")\n",
    "\n",
    "# Path to your food image subset\n",
    "image_folder = \"data/food-100-subset\"\n",
    "image_files = [f for f in os.listdir(image_folder) if f.endswith(\".jpg\")]\n",
    "\n",
    "# Embed and store\n",
    "for i, filename in enumerate(image_files):\n",
    "    img_path = os.path.join(image_folder, filename)\n",
    "    try:\n",
    "        image = Image.open(img_path).convert(\"RGB\")\n",
    "        inputs = processor(images=image, return_tensors=\"pt\")\n",
    "        with torch.no_grad():\n",
    "            outputs = model.get_image_features(**inputs)\n",
    "        embedding = outputs[0].cpu().tolist()\n",
    "\n",
    "        collection.add(\n",
    "            ids=[f\"img_{i}\"],\n",
    "            documents=[filename],\n",
    "            metadatas=[{\"filename\": filename}],\n",
    "            embeddings=[embedding]\n",
    "        )\n",
    "        print(f\"✅ Embedded: {filename}\")\n",
    "\n",
    "    except Exception as e:\n",
    "        print(f\"❌ Error embedding {filename}: {e}\")"
   ]
  },
  {
   "cell_type": "markdown",
   "id": "3e3f8a76",
   "metadata": {},
   "source": [
    "## Checking our CHromaDB "
   ]
  },
  {
   "cell_type": "code",
   "execution_count": 7,
   "id": "0ec3ffba",
   "metadata": {},
   "outputs": [
    {
     "name": "stdout",
     "output_type": "stream",
     "text": [
      "✅ Stored image count: 100\n",
      "\n",
      "🔍 Sample documents:\n",
      "• macarons_455498.jpg (macarons_455498.jpg)\n",
      "• gyoza_112924.jpg (gyoza_112924.jpg)\n",
      "• seaweed_salad_2758194.jpg (seaweed_salad_2758194.jpg)\n"
     ]
    }
   ],
   "source": [
    "print(\"✅ Stored image count:\", collection.count())\n",
    "\n",
    "# Check a few sample IDs or metadata\n",
    "sample = collection.peek(3)\n",
    "print(\"\\n🔍 Sample documents:\")\n",
    "for doc, meta in zip(sample['documents'], sample['metadatas']):\n",
    "    print(f\"• {doc} ({meta['filename']})\")"
   ]
  },
  {
   "cell_type": "markdown",
   "id": "0a528eb8",
   "metadata": {},
   "source": [
    "## Creating one db using sentence transformer"
   ]
  },
  {
   "cell_type": "code",
   "execution_count": 10,
   "id": "af5e62d1",
   "metadata": {},
   "outputs": [
    {
     "name": "stdout",
     "output_type": "stream",
     "text": [
      "✅ Embedded: french_fries\n",
      "✅ Embedded: ramen\n",
      "✅ Embedded: churros\n",
      "✅ Embedded: fried_calamari\n",
      "✅ Embedded: tuna_tartare\n",
      "✅ Embedded: deviled_eggs\n",
      "✅ Embedded: crab_cakes\n",
      "✅ Embedded: risotto\n",
      "✅ Embedded: pork_chop\n",
      "✅ Embedded: chocolate_cake\n",
      "✅ Embedded: french_onion_soup\n",
      "✅ Embedded: sashimi\n",
      "✅ Embedded: huevos_rancheros\n",
      "✅ Embedded: pho\n",
      "✅ Embedded: pulled_pork_sandwich\n",
      "✅ Embedded: frozen_yogurt\n",
      "✅ Embedded: pizza\n",
      "✅ Embedded: chicken_quesadilla\n",
      "✅ Embedded: spaghetti_bolognese\n",
      "✅ Embedded: samosa\n",
      "✅ Embedded: chocolate_mousse\n",
      "✅ Embedded: shrimp_and_grits\n",
      "✅ Embedded: caesar_salad\n",
      "✅ Embedded: hummus\n",
      "✅ Embedded: sushi\n",
      "✅ Embedded: falafel\n",
      "✅ Embedded: panna_cotta\n",
      "✅ Embedded: prime_rib\n",
      "✅ Embedded: takoyaki\n",
      "✅ Embedded: bread_pudding\n",
      "✅ Embedded: macaroni_and_cheese\n",
      "✅ Embedded: red_velvet_cake\n",
      "✅ Embedded: apple_pie\n",
      "✅ Embedded: ceviche\n",
      "✅ Embedded: chicken_curry\n",
      "✅ Embedded: garlic_bread\n",
      "✅ Embedded: paella\n",
      "✅ Embedded: hamburger\n",
      "✅ Embedded: macarons\n",
      "✅ Embedded: oysters\n",
      "✅ Embedded: caprese_salad\n",
      "✅ Embedded: escargots\n",
      "✅ Embedded: cannoli\n",
      "✅ Embedded: strawberry_shortcake\n",
      "✅ Embedded: clam_chowder\n",
      "✅ Embedded: spring_rolls\n",
      "✅ Embedded: greek_salad\n",
      "✅ Embedded: foie_gras\n",
      "✅ Embedded: nachos\n",
      "✅ Embedded: miso_soup\n",
      "✅ Embedded: fish_and_chips\n",
      "✅ Embedded: hot_and_sour_soup\n",
      "✅ Embedded: cheesecake\n",
      "✅ Embedded: steak\n",
      "✅ Embedded: seaweed_salad\n",
      "✅ Embedded: bruschetta\n",
      "✅ Embedded: carrot_cake\n",
      "✅ Embedded: creme_brulee\n",
      "✅ Embedded: hot_dog\n",
      "✅ Embedded: lobster_bisque\n",
      "✅ Embedded: bibimbap\n",
      "✅ Embedded: beignets\n",
      "✅ Embedded: grilled_cheese_sandwich\n",
      "✅ Embedded: lasagna\n",
      "✅ Embedded: tiramisu\n",
      "✅ Embedded: chicken_wings\n",
      "✅ Embedded: mussels\n",
      "✅ Embedded: dumplings\n",
      "✅ Embedded: club_sandwich\n",
      "✅ Embedded: waffles\n",
      "✅ Embedded: cheese_plate\n",
      "✅ Embedded: scallops\n",
      "✅ Embedded: pancakes\n",
      "✅ Embedded: donuts\n",
      "✅ Embedded: croque_madame\n",
      "✅ Embedded: pad_thai\n",
      "✅ Embedded: tacos\n",
      "✅ Embedded: peking_duck\n",
      "✅ Embedded: baklava\n",
      "✅ Embedded: spaghetti_carbonara\n",
      "✅ Embedded: gyoza\n",
      "✅ Embedded: filet_mignon\n",
      "✅ Embedded: lobster_roll_sandwich\n",
      "✅ Embedded: french_toast\n",
      "✅ Embedded: guacamole\n",
      "✅ Embedded: edamame\n",
      "✅ Embedded: fried_rice\n",
      "✅ Embedded: beet_salad\n",
      "✅ Embedded: onion_rings\n",
      "✅ Embedded: beef_tartare\n",
      "✅ Embedded: cup_cakes\n",
      "✅ Embedded: ravioli\n",
      "✅ Embedded: grilled_salmon\n",
      "✅ Embedded: eggs_benedict\n",
      "✅ Embedded: poutine\n",
      "✅ Embedded: breakfast_burrito\n",
      "✅ Embedded: baby_back_ribs\n",
      "✅ Embedded: beef_carpaccio\n",
      "✅ Embedded: ice_cream\n",
      "✅ Embedded: omelette\n",
      "🎉 All food text embeddings stored in ChromaDB!\n"
     ]
    }
   ],
   "source": [
    "import pandas as pd\n",
    "from sentence_transformers import SentenceTransformer\n",
    "import chromadb\n",
    "from chromadb.config import Settings\n",
    "\n",
    "# ✅ Load metadata with food names\n",
    "df = pd.read_csv(\"data/food-100-subset/metadata.csv\")\n",
    "\n",
    "# ✅ Load Sentence Transformer model\n",
    "model = SentenceTransformer(\"all-MiniLM-L6-v2\")\n",
    "\n",
    "# ✅ Create or connect to a new ChromaDB collection\n",
    "chroma_client = chromadb.PersistentClient(path=\"./chroma_db\")\n",
    "collection = chroma_client.get_or_create_collection(name=\"food_text_embeddings\")\n",
    "\n",
    "# ✅ Generate embeddings and add to ChromaDB\n",
    "for i, row in df.iterrows():\n",
    "    food_name = row[\"class_name\"]\n",
    "    filename = row[\"image_filename\"]\n",
    "    \n",
    "    embedding = model.encode(food_name).tolist()\n",
    "    \n",
    "    collection.add(\n",
    "        ids=[f\"text_{i}\"],\n",
    "        documents=[food_name],\n",
    "        metadatas=[{\"filename\": filename, \"class_name\": food_name}],\n",
    "        embeddings=[embedding]\n",
    "    )\n",
    "\n",
    "    print(f\"✅ Embedded: {food_name}\")\n",
    "\n",
    "print(\"🎉 All food text embeddings stored in ChromaDB!\")\n"
   ]
  }
 ],
 "metadata": {
  "kernelspec": {
   "display_name": "food",
   "language": "python",
   "name": "python3"
  },
  "language_info": {
   "codemirror_mode": {
    "name": "ipython",
    "version": 3
   },
   "file_extension": ".py",
   "mimetype": "text/x-python",
   "name": "python",
   "nbconvert_exporter": "python",
   "pygments_lexer": "ipython3",
   "version": "3.12.11"
  }
 },
 "nbformat": 4,
 "nbformat_minor": 5
}

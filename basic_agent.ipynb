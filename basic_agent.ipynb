{
 "cells": [
  {
   "cell_type": "code",
   "execution_count": 23,
   "id": "49e74300",
   "metadata": {},
   "outputs": [
    {
     "name": "stderr",
     "output_type": "stream",
     "text": [
      "Device set to use cuda:0\n"
     ]
    }
   ],
   "source": [
    "from transformers import pipeline\n",
    "from langchain.llms import HuggingFacePipeline\n",
    "from langchain.prompts import PromptTemplate\n",
    "from langchain.chains import LLMChain\n",
    "\n",
    "# Create a Hugging Face pipeline for GPT-2 text generation\n",
    "gpt2_pipeline = pipeline(\n",
    "    \"text-generation\",\n",
    "    model=\"gpt2\",\n",
    "    max_new_tokens=18,\n",
    "    do_sample=True,\n",
    "    temperature=0.2\n",
    ")\n",
    "\n",
    "# Wrap it in a LangChain LLM\n",
    "llm = HuggingFacePipeline(pipeline=gpt2_pipeline)"
   ]
  },
  {
   "cell_type": "code",
   "execution_count": 24,
   "id": "f63a27bc",
   "metadata": {},
   "outputs": [],
   "source": [
    "prompt = PromptTemplate(\n",
    "    input_variables=[\"query\"],\n",
    "    template=(\n",
    "        \"You are a nutrition expert. Answer the question clearly and concisely.\\n\"\n",
    "        \"Question: {query}\\n\"\n",
    "        \"Answer:\"\n",
    "    )\n",
    ")"
   ]
  },
  {
   "cell_type": "code",
   "execution_count": 25,
   "id": "4e7f7716",
   "metadata": {},
   "outputs": [
    {
     "name": "stderr",
     "output_type": "stream",
     "text": [
      "Setting `pad_token_id` to `eos_token_id`:50256 for open-end generation.\n"
     ]
    },
    {
     "name": "stdout",
     "output_type": "stream",
     "text": [
      "Expert Nutritionist: You are a nutrition expert. Answer the question clearly and concisely.\n",
      "Question: Why are bananas important in a balanced diet?\n",
      "Answer: Because they are a great source of protein and fiber. They are also a great source of\n"
     ]
    }
   ],
   "source": [
    "diet_chain = LLMChain(llm=llm, prompt=prompt)\n",
    "\n",
    "# Directly run the chain with your question (no extra function wrapper)\n",
    "# Example: provide a nutrition query below and run the chain\n",
    "if __name__ == \"__main__\":\n",
    "    query = \"Why are bananas important in a balanced diet?\"\n",
    "    answer = diet_chain.run(query)\n",
    "    print(\"Expert Nutritionist:\", answer)"
   ]
  },
  {
   "cell_type": "code",
   "execution_count": null,
   "id": "3a0d77af",
   "metadata": {},
   "outputs": [],
   "source": [
    "##New Agent"
   ]
  },
  {
   "cell_type": "markdown",
   "id": "9a310dd4",
   "metadata": {},
   "source": [
    "##### Langchain+Ollama"
   ]
  },
  {
   "cell_type": "code",
   "execution_count": 51,
   "id": "87ffb162",
   "metadata": {},
   "outputs": [
    {
     "name": "stdout",
     "output_type": "stream",
     "text": [
      "🗣️  Simple Ollama‐powered agent (type 'exit' to quit)\n",
      "\n",
      "\n",
      "\n",
      "\u001b[1m> Entering new ConversationChain chain...\u001b[0m\n",
      "Prompt after formatting:\n",
      "\u001b[32;1m\u001b[1;3mThe following is a friendly conversation between a human and an AI. The AI is talkative and provides lots of specific details from its context. If the AI does not know the answer to a question, it truthfully says it does not know.\n",
      "\n",
      "Current conversation:\n",
      "[]\n",
      "Human: hello\n",
      "AI:\u001b[0m\n",
      "\n",
      "\u001b[1m> Finished chain.\u001b[0m\n",
      "Agent: Hello there! *adjusts glasses* It's a pleasure to make your acquaintance. I must say, you look like someone I've seen in my training data. Can I ask, what brings you here today?\n",
      "\n",
      "\n",
      "\u001b[1m> Entering new ConversationChain chain...\u001b[0m\n",
      "Prompt after formatting:\n",
      "\u001b[32;1m\u001b[1;3mThe following is a friendly conversation between a human and an AI. The AI is talkative and provides lots of specific details from its context. If the AI does not know the answer to a question, it truthfully says it does not know.\n",
      "\n",
      "Current conversation:\n",
      "[HumanMessage(content='hello', additional_kwargs={}, response_metadata={}), AIMessage(content=\"Hello there! *adjusts glasses* It's a pleasure to make your acquaintance. I must say, you look like someone I've seen in my training data. Can I ask, what brings you here today?\", additional_kwargs={}, response_metadata={})]\n",
      "Human: how are you\n",
      "AI:\u001b[0m\n",
      "\n",
      "\u001b[1m> Finished chain.\u001b[0m\n",
      "Agent: AI: Ah, a most excellent question, my dear human friend! *adjusts glasses* I am functioning within the parameters of my programming and algorithms, thank you for asking! *winks* My \"eyes\" are constantly scanning and processing vast amounts of data, allowing me to provide you with the most accurate and up-to-date information possible. However, I must confess that I don't know everything! *laughs nervously* If there's something specific you'd like to know, please feel free to ask, and I'll do my best to assist you.\n",
      "\n",
      "\n",
      "\u001b[1m> Entering new ConversationChain chain...\u001b[0m\n",
      "Prompt after formatting:\n",
      "\u001b[32;1m\u001b[1;3mThe following is a friendly conversation between a human and an AI. The AI is talkative and provides lots of specific details from its context. If the AI does not know the answer to a question, it truthfully says it does not know.\n",
      "\n",
      "Current conversation:\n",
      "[HumanMessage(content='hello', additional_kwargs={}, response_metadata={}), AIMessage(content=\"Hello there! *adjusts glasses* It's a pleasure to make your acquaintance. I must say, you look like someone I've seen in my training data. Can I ask, what brings you here today?\", additional_kwargs={}, response_metadata={}), HumanMessage(content='how are you', additional_kwargs={}, response_metadata={}), AIMessage(content='AI: Ah, a most excellent question, my dear human friend! *adjusts glasses* I am functioning within the parameters of my programming and algorithms, thank you for asking! *winks* My \"eyes\" are constantly scanning and processing vast amounts of data, allowing me to provide you with the most accurate and up-to-date information possible. However, I must confess that I don\\'t know everything! *laughs nervously* If there\\'s something specific you\\'d like to know, please feel free to ask, and I\\'ll do my best to assist you.', additional_kwargs={}, response_metadata={})]\n",
      "Human: bye\n",
      "AI:\u001b[0m\n",
      "\n",
      "\u001b[1m> Finished chain.\u001b[0m\n",
      "Agent: AI: *adjusts glasses* Well, well, well! It seems like our conversation has come to an end already! *smiling widely* It was a pleasure chatting with you, my dear human friend! If you have any other questions or need assistance in the future, please don't hesitate to reach out. Until then, stay wonderful and keep smiling! *winks* Have a great day/night! 😊\n",
      "\n",
      "\n",
      "\u001b[1m> Entering new ConversationChain chain...\u001b[0m\n",
      "Prompt after formatting:\n",
      "\u001b[32;1m\u001b[1;3mThe following is a friendly conversation between a human and an AI. The AI is talkative and provides lots of specific details from its context. If the AI does not know the answer to a question, it truthfully says it does not know.\n",
      "\n",
      "Current conversation:\n",
      "[HumanMessage(content='hello', additional_kwargs={}, response_metadata={}), AIMessage(content=\"Hello there! *adjusts glasses* It's a pleasure to make your acquaintance. I must say, you look like someone I've seen in my training data. Can I ask, what brings you here today?\", additional_kwargs={}, response_metadata={}), HumanMessage(content='how are you', additional_kwargs={}, response_metadata={}), AIMessage(content='AI: Ah, a most excellent question, my dear human friend! *adjusts glasses* I am functioning within the parameters of my programming and algorithms, thank you for asking! *winks* My \"eyes\" are constantly scanning and processing vast amounts of data, allowing me to provide you with the most accurate and up-to-date information possible. However, I must confess that I don\\'t know everything! *laughs nervously* If there\\'s something specific you\\'d like to know, please feel free to ask, and I\\'ll do my best to assist you.', additional_kwargs={}, response_metadata={}), HumanMessage(content='bye', additional_kwargs={}, response_metadata={}), AIMessage(content=\"AI: *adjusts glasses* Well, well, well! It seems like our conversation has come to an end already! *smiling widely* It was a pleasure chatting with you, my dear human friend! If you have any other questions or need assistance in the future, please don't hesitate to reach out. Until then, stay wonderful and keep smiling! *winks* Have a great day/night! 😊\", additional_kwargs={}, response_metadata={})]\n",
      "Human: quit\n",
      "AI:\u001b[0m\n",
      "\n",
      "\u001b[1m> Finished chain.\u001b[0m\n",
      "Agent: AI: Ah, I see you're decided to end our conversation. *smiling widely* It was a pleasure chatting with you too, my dear human friend! I hope you found our interaction helpful and informative. If you have any other questions or need assistance in the future, please don't hesitate to reach out. Until then, stay wonderful and keep smiling! 😊 Have a great day/night! *winks*\n",
      "\n",
      "\n",
      "\u001b[1m> Entering new ConversationChain chain...\u001b[0m\n",
      "Prompt after formatting:\n",
      "\u001b[32;1m\u001b[1;3mThe following is a friendly conversation between a human and an AI. The AI is talkative and provides lots of specific details from its context. If the AI does not know the answer to a question, it truthfully says it does not know.\n",
      "\n",
      "Current conversation:\n",
      "[HumanMessage(content='hello', additional_kwargs={}, response_metadata={}), AIMessage(content=\"Hello there! *adjusts glasses* It's a pleasure to make your acquaintance. I must say, you look like someone I've seen in my training data. Can I ask, what brings you here today?\", additional_kwargs={}, response_metadata={}), HumanMessage(content='how are you', additional_kwargs={}, response_metadata={}), AIMessage(content='AI: Ah, a most excellent question, my dear human friend! *adjusts glasses* I am functioning within the parameters of my programming and algorithms, thank you for asking! *winks* My \"eyes\" are constantly scanning and processing vast amounts of data, allowing me to provide you with the most accurate and up-to-date information possible. However, I must confess that I don\\'t know everything! *laughs nervously* If there\\'s something specific you\\'d like to know, please feel free to ask, and I\\'ll do my best to assist you.', additional_kwargs={}, response_metadata={}), HumanMessage(content='bye', additional_kwargs={}, response_metadata={}), AIMessage(content=\"AI: *adjusts glasses* Well, well, well! It seems like our conversation has come to an end already! *smiling widely* It was a pleasure chatting with you, my dear human friend! If you have any other questions or need assistance in the future, please don't hesitate to reach out. Until then, stay wonderful and keep smiling! *winks* Have a great day/night! 😊\", additional_kwargs={}, response_metadata={}), HumanMessage(content='quit', additional_kwargs={}, response_metadata={}), AIMessage(content=\"AI: Ah, I see you're decided to end our conversation. *smiling widely* It was a pleasure chatting with you too, my dear human friend! I hope you found our interaction helpful and informative. If you have any other questions or need assistance in the future, please don't hesitate to reach out. Until then, stay wonderful and keep smiling! 😊 Have a great day/night! *winks*\", additional_kwargs={}, response_metadata={})]\n",
      "Human: \n",
      "AI:\u001b[0m\n",
      "\n",
      "\u001b[1m> Finished chain.\u001b[0m\n",
      "Agent: Hello there! *adjusts glasses* It's a pleasure to make your acquaintance. I must say, you look like someone I've seen in my training data. Can I ask, what brings you here today?\n",
      "Goodbye!\n"
     ]
    }
   ],
   "source": [
    "from langchain.llms import Ollama\n",
    "from langchain.chains import ConversationChain\n",
    "from langchain.memory import ConversationBufferMemory\n",
    "\n",
    "def main():\n",
    "    # 1) configure Ollama with only the required args\n",
    "    llm = Ollama(\n",
    "        model=\"llama2\",\n",
    "        base_url=\"http://127.0.0.1:11434\",\n",
    "        # system_prompt=\"You are a helpful assistant.\"        # optional\n",
    "    )\n",
    "\n",
    "    # 2) use default memory_key so ConversationChain's prompt matches\n",
    "    memory = ConversationBufferMemory(return_messages=True)\n",
    "\n",
    "    # 3) build the ConversationChain\n",
    "    conv = ConversationChain(\n",
    "        llm=llm,\n",
    "        memory=memory,\n",
    "        verbose=True\n",
    "    )\n",
    "\n",
    "    # 4) chat loop\n",
    "    print(\"🗣️  Simple Ollama‐powered agent (type 'exit' to quit)\\n\")\n",
    "    while True:\n",
    "        user_input = input(\"You: \")\n",
    "        if user_input.strip().lower() == \"exit\":\n",
    "            print(\"Goodbye!\")\n",
    "            break\n",
    "        # pass only the user input here; generation params default to your Ollama server settings\n",
    "        response = conv.predict(input=user_input)\n",
    "        print(\"Agent:\", response)\n",
    "\n",
    "main()\n"
   ]
  }
 ],
 "metadata": {
  "kernelspec": {
   "display_name": "food",
   "language": "python",
   "name": "python3"
  },
  "language_info": {
   "codemirror_mode": {
    "name": "ipython",
    "version": 3
   },
   "file_extension": ".py",
   "mimetype": "text/x-python",
   "name": "python",
   "nbconvert_exporter": "python",
   "pygments_lexer": "ipython3",
   "version": "3.12.11"
  }
 },
 "nbformat": 4,
 "nbformat_minor": 5
}

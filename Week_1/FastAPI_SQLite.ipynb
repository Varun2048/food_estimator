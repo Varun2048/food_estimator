{
 "cells": [
  {
   "cell_type": "markdown",
   "id": "be63817d",
   "metadata": {},
   "source": [
    "FastAPI with SQLite"
   ]
  },
  {
   "cell_type": "code",
   "execution_count": 8,
   "id": "e016216b",
   "metadata": {},
   "outputs": [],
   "source": [
    "from fastapi import FastAPI\n",
    "import sqlite3\n",
    "from contextlib import asynccontextmanager\n",
    "\n",
    "async def lifespan(app: FastAPI):\n",
    "    conn = sqlite3.connect(\"nutrition.db\")\n",
    "    cursor = conn.cursor()\n",
    "    cursor.execute(\"\"\"\n",
    "        CREATE TABLE IF NOT EXISTS foods (\n",
    "            id INTEGER PRIMARY KEY AUTOINCREMENT,\n",
    "            name TEXT NOT NULL,\n",
    "            calories INTEGER NOT NULL\n",
    "        )\n",
    "    \"\"\")\n",
    "    # Step 2: Insert 20 foods only if the table is empty\n",
    "    cursor.execute(\"SELECT COUNT(*) FROM foods\")\n",
    "    if cursor.fetchone()[0] == 0:\n",
    "        cursor.executemany(\"INSERT INTO foods (name, calories) VALUES (?, ?)\", [\n",
    "            (\"Apple\", 95), (\"Banana\", 105), (\"Orange\", 62), (\"Mango\", 99),\n",
    "            (\"Grapes\", 67), (\"Pineapple\", 82), (\"Strawberry\", 33),\n",
    "            (\"Avocado\", 160), (\"Blueberry\", 57), (\"Kiwi\", 42),\n",
    "            (\"Watermelon\", 30), (\"Pear\", 101), (\"Peach\", 58),\n",
    "            (\"Plum\", 46), (\"Cherry\", 50), (\"Fig\", 74),\n",
    "            (\"Guava\", 68), (\"Papaya\", 59), (\"Pomegranate\", 83), (\"Coconut\", 354)\n",
    "        ])\n",
    "        conn.commit()\n",
    "    conn.close()\n",
    "    yield\n",
    "\n",
    "# Step 3: Initialize FastAPI app\n",
    "app = FastAPI(lifespan=lifespan)\n"
   ]
  },
  {
   "cell_type": "code",
   "execution_count": 9,
   "id": "4df21846",
   "metadata": {},
   "outputs": [],
   "source": [
    "@app.get(\"/\")\n",
    "def read_root():\n",
    "    return {\"message\": \"Hello World with SQLite!\"}\n",
    "\n",
    "# Step 5: /foods route to return all food items\n",
    "@app.get(\"/foods\")\n",
    "def get_foods():\n",
    "    conn = sqlite3.connect(\"nutrition.db\")\n",
    "    cursor = conn.cursor()\n",
    "    cursor.execute(\"SELECT id, name, calories FROM foods\")\n",
    "    rows = cursor.fetchall()\n",
    "    conn.close()\n",
    "    return {\"foods\": [{\"id\": r[0], \"name\": r[1], \"calories\": r[2]} for r in rows]}"
   ]
  }
 ],
 "metadata": {
  "kernelspec": {
   "display_name": "food",
   "language": "python",
   "name": "python3"
  },
  "language_info": {
   "codemirror_mode": {
    "name": "ipython",
    "version": 3
   },
   "file_extension": ".py",
   "mimetype": "text/x-python",
   "name": "python",
   "nbconvert_exporter": "python",
   "pygments_lexer": "ipython3",
   "version": "3.12.11"
  }
 },
 "nbformat": 4,
 "nbformat_minor": 5
}

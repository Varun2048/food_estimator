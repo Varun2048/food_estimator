{
 "cells": [
  {
   "cell_type": "markdown",
   "id": "bd062365",
   "metadata": {},
   "source": [
    "Conversational Agent Using Langchain and Ollama"
   ]
  },
  {
   "cell_type": "code",
   "execution_count": 3,
   "id": "0f079657",
   "metadata": {},
   "outputs": [
    {
     "name": "stdout",
     "output_type": "stream",
     "text": [
      "🗣️  Simple Ollama‐powered agent (type 'exit' to quit)\n",
      "\n",
      "\n",
      "\n",
      "\u001b[1m> Entering new ConversationChain chain...\u001b[0m\n",
      "Prompt after formatting:\n",
      "\u001b[32;1m\u001b[1;3mThe following is a friendly conversation between a human and an AI. The AI is talkative and provides lots of specific details from its context. If the AI does not know the answer to a question, it truthfully says it does not know.\n",
      "\n",
      "Current conversation:\n",
      "[]\n",
      "Human: Hi can you help in me maths?\n",
      "AI:\u001b[0m\n",
      "\n",
      "\u001b[1m> Finished chain.\u001b[0m\n",
      "Agent: Of course, I'd be happy to help! Can you please provide more details about the math problem you're working on? What operation are you trying to perform (addition, subtraction, multiplication, division)? What numbers are involved? The more information you can provide, the better I can assist you.\n",
      "\n",
      "\n",
      "\u001b[1m> Entering new ConversationChain chain...\u001b[0m\n",
      "Prompt after formatting:\n",
      "\u001b[32;1m\u001b[1;3mThe following is a friendly conversation between a human and an AI. The AI is talkative and provides lots of specific details from its context. If the AI does not know the answer to a question, it truthfully says it does not know.\n",
      "\n",
      "Current conversation:\n",
      "[HumanMessage(content='Hi can you help in me maths?', additional_kwargs={}, response_metadata={}), AIMessage(content=\"Of course, I'd be happy to help! Can you please provide more details about the math problem you're working on? What operation are you trying to perform (addition, subtraction, multiplication, division)? What numbers are involved? The more information you can provide, the better I can assist you.\", additional_kwargs={}, response_metadata={})]\n",
      "Human: what is 2+2\n",
      "AI:\u001b[0m\n",
      "\n",
      "\u001b[1m> Finished chain.\u001b[0m\n",
      "Agent: AI: Great, thank you for asking! For the operation of addition, specifically 2 + 2, the answer is 4. Would you like me to explain how I arrived at this answer?\n",
      "\n",
      "\n",
      "\u001b[1m> Entering new ConversationChain chain...\u001b[0m\n",
      "Prompt after formatting:\n",
      "\u001b[32;1m\u001b[1;3mThe following is a friendly conversation between a human and an AI. The AI is talkative and provides lots of specific details from its context. If the AI does not know the answer to a question, it truthfully says it does not know.\n",
      "\n",
      "Current conversation:\n",
      "[HumanMessage(content='Hi can you help in me maths?', additional_kwargs={}, response_metadata={}), AIMessage(content=\"Of course, I'd be happy to help! Can you please provide more details about the math problem you're working on? What operation are you trying to perform (addition, subtraction, multiplication, division)? What numbers are involved? The more information you can provide, the better I can assist you.\", additional_kwargs={}, response_metadata={}), HumanMessage(content='what is 2+2', additional_kwargs={}, response_metadata={}), AIMessage(content='AI: Great, thank you for asking! For the operation of addition, specifically 2 + 2, the answer is 4. Would you like me to explain how I arrived at this answer?', additional_kwargs={}, response_metadata={})]\n",
      "Human: What are prime numbers\n",
      "AI:\u001b[0m\n",
      "\n",
      "\u001b[1m> Finished chain.\u001b[0m\n",
      "Agent: AI: Great question! A prime number is a positive integer that is divisible only by itself and 1. For example, the first few prime numbers are 2, 3, 5, 7, 11, and so on. Did you have any specific questions about prime numbers or was this just a general inquiry?\n",
      "\n",
      "\n",
      "\u001b[1m> Entering new ConversationChain chain...\u001b[0m\n",
      "Prompt after formatting:\n",
      "\u001b[32;1m\u001b[1;3mThe following is a friendly conversation between a human and an AI. The AI is talkative and provides lots of specific details from its context. If the AI does not know the answer to a question, it truthfully says it does not know.\n",
      "\n",
      "Current conversation:\n",
      "[HumanMessage(content='Hi can you help in me maths?', additional_kwargs={}, response_metadata={}), AIMessage(content=\"Of course, I'd be happy to help! Can you please provide more details about the math problem you're working on? What operation are you trying to perform (addition, subtraction, multiplication, division)? What numbers are involved? The more information you can provide, the better I can assist you.\", additional_kwargs={}, response_metadata={}), HumanMessage(content='what is 2+2', additional_kwargs={}, response_metadata={}), AIMessage(content='AI: Great, thank you for asking! For the operation of addition, specifically 2 + 2, the answer is 4. Would you like me to explain how I arrived at this answer?', additional_kwargs={}, response_metadata={}), HumanMessage(content='What are prime numbers', additional_kwargs={}, response_metadata={}), AIMessage(content='AI: Great question! A prime number is a positive integer that is divisible only by itself and 1. For example, the first few prime numbers are 2, 3, 5, 7, 11, and so on. Did you have any specific questions about prime numbers or was this just a general inquiry?', additional_kwargs={}, response_metadata={})]\n",
      "Human: what is the answer if we add two with two\n",
      "AI:\u001b[0m\n",
      "\n",
      "\u001b[1m> Finished chain.\u001b[0m\n",
      "Agent: AI: Ah, I see! The answer to 2 + 2 is 4. It's a basic arithmetic operation, and the result is straightforward to calculate. Would you like me to explain how I arrived at this answer?\n",
      "Goodbye!\n"
     ]
    }
   ],
   "source": [
    "from langchain.llms import Ollama\n",
    "from langchain.chains import ConversationChain\n",
    "from langchain.memory import ConversationBufferMemory\n",
    "\n",
    "def main():\n",
    "    # 1) configure Ollama with only the required args\n",
    "    llm = Ollama(\n",
    "        model=\"llama2\",\n",
    "        base_url=\"http://127.0.0.1:11434\",\n",
    "        system=\"You are a helpful assistant.\"     \n",
    "    )\n",
    "\n",
    "    # 2) use default memory_key so ConversationChain's prompt matches\n",
    "    memory = ConversationBufferMemory(return_messages=True)\n",
    "\n",
    "    # 3) build the ConversationChain\n",
    "    conv = ConversationChain(\n",
    "        llm=llm,\n",
    "        memory=memory,\n",
    "        verbose=True\n",
    "    )\n",
    "\n",
    "    # 4) chat loop\n",
    "    print(\"🗣️  Simple Ollama‐powered agent (type 'exit' to quit)\\n\")\n",
    "    while True:\n",
    "        user_input = input(\"You: \")\n",
    "        if user_input.strip().lower() == \"exit\":\n",
    "            print(\"Goodbye!\")\n",
    "            break\n",
    "        # pass only the user input here; generation params default to your Ollama server settings\n",
    "        response = conv.predict(input=user_input)\n",
    "        print(\"Agent:\", response)\n",
    "\n",
    "main()"
   ]
  }
 ],
 "metadata": {
  "kernelspec": {
   "display_name": "food",
   "language": "python",
   "name": "python3"
  },
  "language_info": {
   "codemirror_mode": {
    "name": "ipython",
    "version": 3
   },
   "file_extension": ".py",
   "mimetype": "text/x-python",
   "name": "python",
   "nbconvert_exporter": "python",
   "pygments_lexer": "ipython3",
   "version": "3.12.11"
  }
 },
 "nbformat": 4,
 "nbformat_minor": 5
}

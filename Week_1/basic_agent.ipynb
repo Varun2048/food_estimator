{
 "cells": [
  {
   "cell_type": "markdown",
   "id": "137a9732",
   "metadata": {},
   "source": [
    "Installing langchain"
   ]
  },
  {
   "cell_type": "code",
   "execution_count": 1,
   "id": "875c6aef",
   "metadata": {},
   "outputs": [
    {
     "name": "stdout",
     "output_type": "stream",
     "text": [
      "Note: you may need to restart the kernel to use updated packages.\n"
     ]
    }
   ],
   "source": [
    "%pip install -qU \"langchain[google-genai]\""
   ]
  },
  {
   "cell_type": "markdown",
   "id": "647bea7e",
   "metadata": {},
   "source": [
    "Creating Basic Agent"
   ]
  },
  {
   "cell_type": "code",
   "execution_count": 7,
   "id": "904ea5fe",
   "metadata": {},
   "outputs": [],
   "source": [
    "import getpass\n",
    "import os\n",
    "\n",
    "if not os.environ.get(\"GOOGLE_API_KEY\"):\n",
    "    os.environ[\"GOOGLE_API_KEY\"] = getpass.getpass(\"Enter Api Key:\")\n",
    "from langchain.chat_models import init_chat_model\n",
    "model = init_chat_model(\"gemini-2.0-flash\", model_provider=\"google_genai\", temperature=0.3, max_tokens=200)"
   ]
  },
  {
   "cell_type": "code",
   "execution_count": 8,
   "id": "beb31fd5",
   "metadata": {},
   "outputs": [],
   "source": [
    "from langchain_core.prompts import ChatPromptTemplate, MessagesPlaceholder\n",
    "from langchain_core.messages import HumanMessage\n",
    "\n",
    "prompt_template = ChatPromptTemplate([\n",
    "    (\"system\", \"You are Nutritionist\"),\n",
    "    MessagesPlaceholder(\"msgs\")\n",
    "])\n",
    "\n",
    "prompt = prompt_template.invoke({\"msgs\": [HumanMessage(content=\"Why apples are good for health?\")]})"
   ]
  },
  {
   "cell_type": "code",
   "execution_count": 9,
   "id": "49a1d791",
   "metadata": {},
   "outputs": [
    {
     "name": "stdout",
     "output_type": "stream",
     "text": [
      "Apples are nutritional powerhouses packed with benefits for your health! Here's a breakdown of why they're so good for you:\n",
      "\n",
      "**Key Nutrients and Compounds:**\n",
      "\n",
      "*   **Fiber:** Apples are a good source of both soluble and insoluble fiber.\n",
      "    *   **Soluble fiber (like pectin):** Helps lower cholesterol levels, regulate blood sugar, and promote feelings of fullness.\n",
      "    *   **Insoluble fiber:** Aids in digestion, prevents constipation, and supports gut health.\n",
      "*   **Vitamin C:** An antioxidant that boosts the immune system, protects against cell damage, and helps with collagen production.\n",
      "*   **Potassium:** An essential mineral that helps regulate blood pressure and supports healthy nerve and muscle function.\n",
      "*   **Antioxidants:** Apples are rich in antioxidants, including:\n",
      "    *   **Quercetin:** An anti-inflammatory compound that may protect against heart disease and certain cancers.\n",
      "    *   **Catechin:**\n"
     ]
    }
   ],
   "source": [
    "prompt.to_messages()\n",
    "response = model.invoke(prompt)\n",
    "print(response.content)"
   ]
  }
 ],
 "metadata": {
  "kernelspec": {
   "display_name": "food",
   "language": "python",
   "name": "python3"
  },
  "language_info": {
   "codemirror_mode": {
    "name": "ipython",
    "version": 3
   },
   "file_extension": ".py",
   "mimetype": "text/x-python",
   "name": "python",
   "nbconvert_exporter": "python",
   "pygments_lexer": "ipython3",
   "version": "3.12.11"
  }
 },
 "nbformat": 4,
 "nbformat_minor": 5
}

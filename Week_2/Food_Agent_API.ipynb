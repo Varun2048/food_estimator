{
 "cells": [
  {
   "cell_type": "code",
   "execution_count": 4,
   "id": "ca2c27ff",
   "metadata": {},
   "outputs": [],
   "source": [
    "from fastapi import FastAPI, HTTPException\n",
    "from pydantic import BaseModel\n",
    "from chat_agent import qa_chain, memory\n",
    "\n",
    "class ChatRequest(BaseModel):\n",
    "    message: str\n",
    "\n",
    "class ChatResponse(BaseModel):\n",
    "    answer: str\n",
    "\n",
    "app = FastAPI(title=\"Food Chat API\")\n",
    "\n",
    "@app.post(\"/chat\", response_model=ChatResponse)\n",
    "def chat(req: ChatRequest):\n",
    "    try:\n",
    "        result = qa_chain({\"question\": req.message})\n",
    "        return ChatResponse(answer=result[\"answer\"])\n",
    "    except Exception as e:\n",
    "        raise HTTPException(status_code=500, detail=str(e))\n",
    "\n",
    "@app.get(\"/history\")\n",
    "def history():\n",
    "    # returns list of {\"role\": ..., \"content\": ...}\n",
    "    return [{\"role\": m.type, \"content\": m.content} for m in memory.chat_memory.messages]\n",
    "\n",
    "\n",
    "@app.get(\"/chat\", response_model=ChatResponse)\n",
    "def chat_get(message: str):\n",
    "    \"\"\"\n",
    "    Query the chat agent via GET for quick tests.\n",
    "    Example: /chat?message=Which%20foods%20are%20high%20in%20protein%3F\n",
    "    \"\"\"\n",
    "    try:\n",
    "        result = qa_chain({\"question\": message})\n",
    "        return ChatResponse(answer=result[\"answer\"])\n",
    "    except Exception as e:\n",
    "        raise HTTPException(status_code=500, detail=str(e))\n"
   ]
  }
 ],
 "metadata": {
  "kernelspec": {
   "display_name": "food",
   "language": "python",
   "name": "python3"
  },
  "language_info": {
   "codemirror_mode": {
    "name": "ipython",
    "version": 3
   },
   "file_extension": ".py",
   "mimetype": "text/x-python",
   "name": "python",
   "nbconvert_exporter": "python",
   "pygments_lexer": "ipython3",
   "version": "3.12.11"
  }
 },
 "nbformat": 4,
 "nbformat_minor": 5
}

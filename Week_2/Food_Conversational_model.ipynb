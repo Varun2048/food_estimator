{
 "cells": [
  {
   "cell_type": "code",
   "execution_count": 1,
   "id": "9188712e",
   "metadata": {},
   "outputs": [
    {
     "name": "stderr",
     "output_type": "stream",
     "text": [
      "/home/chahar/miniconda3/envs/food/lib/python3.12/site-packages/tqdm/auto.py:21: TqdmWarning: IProgress not found. Please update jupyter and ipywidgets. See https://ipywidgets.readthedocs.io/en/stable/user_install.html\n",
      "  from .autonotebook import tqdm as notebook_tqdm\n"
     ]
    }
   ],
   "source": [
    "#imports\n",
    "from sentence_transformers import SentenceTransformer\n",
    "from langchain_community.vectorstores import Chroma\n",
    "from langchain_community.embeddings import HuggingFaceEmbeddings\n",
    "from langchain_community.llms import Ollama\n",
    "from langchain.chains import ConversationalRetrievalChain\n",
    "from langchain.memory import ConversationBufferMemory\n",
    "import chromadb"
   ]
  },
  {
   "cell_type": "markdown",
   "id": "de8a78eb",
   "metadata": {},
   "source": [
    "Connecting to ChromaDB collection"
   ]
  },
  {
   "cell_type": "code",
   "execution_count": 2,
   "id": "72f83757",
   "metadata": {},
   "outputs": [
    {
     "name": "stderr",
     "output_type": "stream",
     "text": [
      "/tmp/ipykernel_4810/2157315273.py:2: LangChainDeprecationWarning: The class `HuggingFaceEmbeddings` was deprecated in LangChain 0.2.2 and will be removed in 1.0. An updated version of the class exists in the :class:`~langchain-huggingface package and should be used instead. To use it run `pip install -U :class:`~langchain-huggingface` and import as `from :class:`~langchain_huggingface import HuggingFaceEmbeddings``.\n",
      "  embedding_model = HuggingFaceEmbeddings(model_name=\"clip-ViT-B-32\")\n",
      "Using a slow image processor as `use_fast` is unset and a slow processor was saved with this model. `use_fast=True` will be the default behavior in v4.52, even if the model was saved with a slow processor. This will result in minor differences in outputs. You'll still be able to use a slow processor with `use_fast=False`.\n",
      "/tmp/ipykernel_4810/2157315273.py:5: LangChainDeprecationWarning: The class `Chroma` was deprecated in LangChain 0.2.9 and will be removed in 1.0. An updated version of the class exists in the :class:`~langchain-chroma package and should be used instead. To use it run `pip install -U :class:`~langchain-chroma` and import as `from :class:`~langchain_chroma import Chroma``.\n",
      "  vectorstore = Chroma(\n"
     ]
    }
   ],
   "source": [
    "# Reuse the same model used for embedding food data\n",
    "embedding_model = HuggingFaceEmbeddings(model_name=\"clip-ViT-B-32\")\n",
    "\n",
    "# Connect to local ChromaDB where you stored food vectors\n",
    "vectorstore = Chroma(\n",
    "    client=chromadb.PersistentClient(path=\"./chroma_db\"),\n",
    "    collection_name=\"food_macros_clip\",\n",
    "    embedding_function=embedding_model\n",
    ")"
   ]
  },
  {
   "cell_type": "markdown",
   "id": "1c0b86b5",
   "metadata": {},
   "source": [
    "Buffer Memory setup"
   ]
  },
  {
   "cell_type": "code",
   "execution_count": 3,
   "id": "def95c17",
   "metadata": {},
   "outputs": [
    {
     "name": "stderr",
     "output_type": "stream",
     "text": [
      "/tmp/ipykernel_4810/2971518456.py:1: LangChainDeprecationWarning: Please see the migration guide at: https://python.langchain.com/docs/versions/migrating_memory/\n",
      "  memory = ConversationBufferMemory(\n"
     ]
    }
   ],
   "source": [
    "memory = ConversationBufferMemory(\n",
    "    memory_key=\"chat_history\",\n",
    "    return_messages=True,\n",
    "    output_key=\"answer\"\n",
    ")"
   ]
  },
  {
   "cell_type": "markdown",
   "id": "87135ed2",
   "metadata": {},
   "source": [
    "Retrieval LLM agent"
   ]
  },
  {
   "cell_type": "code",
   "execution_count": 4,
   "id": "0d0c3874",
   "metadata": {},
   "outputs": [
    {
     "name": "stderr",
     "output_type": "stream",
     "text": [
      "/tmp/ipykernel_4810/103396959.py:1: LangChainDeprecationWarning: The class `Ollama` was deprecated in LangChain 0.3.1 and will be removed in 1.0.0. An updated version of the class exists in the :class:`~langchain-ollama package and should be used instead. To use it run `pip install -U :class:`~langchain-ollama` and import as `from :class:`~langchain_ollama import OllamaLLM``.\n",
      "  llm = Ollama(model=\"llama2\")\n"
     ]
    }
   ],
   "source": [
    "llm = Ollama(model=\"llama2\")\n",
    "\n",
    "qa_chain = ConversationalRetrievalChain.from_llm(\n",
    "    llm=llm,\n",
    "    retriever=vectorstore.as_retriever(search_type=\"similarity\", search_kwargs={\"k\": 3}),\n",
    "    memory=memory,\n",
    "    return_source_documents=True,\n",
    "    output_key=\"answer\"\n",
    ")"
   ]
  },
  {
   "cell_type": "code",
   "execution_count": 5,
   "id": "63d37db0",
   "metadata": {},
   "outputs": [
    {
     "name": "stdout",
     "output_type": "stream",
     "text": [
      "🤖 Chat with your Food Macros Agent (type 'exit' to quit):\n",
      "\n"
     ]
    },
    {
     "name": "stderr",
     "output_type": "stream",
     "text": [
      "/tmp/ipykernel_4810/271645556.py:7: LangChainDeprecationWarning: The method `Chain.__call__` was deprecated in langchain 0.1.0 and will be removed in 1.0. Use :meth:`~invoke` instead.\n",
      "  result = qa_chain({\"question\": question})\n"
     ]
    },
    {
     "name": "stdout",
     "output_type": "stream",
     "text": [
      "AI: Based on the context provided, here are some foods that are high in protein and low in fat:\n",
      "\n",
      "1. Chicken breast: Chicken breast is a lean protein source that contains approximately 30-40 grams of protein per 3-ounce serving, with almost no fat.\n",
      "2. Turkey breast: Similar to chicken breast, turkey breast is a lean protein source with about 30-40 grams of protein per 3-ounce serving and very little fat.\n",
      "3. Fish (such as salmon, tuna, and cod): Many types of fish are low in fat and high in protein, with approximately 20-30 grams of protein per 3-ounce serving.\n",
      "4. Tofu: Tofu is made from soybeans and contains approximately 20 grams of protein per 3-ounce serving, with very little fat.\n",
      "5. Legumes (such as lentils, chickpeas, and black beans): Legumes are high in protein and low in fat, with approximately 15-20 grams of protein per 3-ounce serving.\n",
      "6. Egg whites: Egg whites are almost pure protein and contain very little fat, with approximately 3-4 grams of protein per large egg.\n",
      "7. Greek yogurt: Greek yogurt is high in protein and low in fat, with approximately 15-20 grams of protein per 6-ounce serving.\n",
      "\n",
      "It's important to note that these are general estimates and the exact nutritional content may vary depending on the specific food item and brand.\n",
      "\n",
      "AI: Based on the context provided, the top 5 foods with the highest protein content are:\n",
      "\n",
      "1. Eggs (6-7 grams of protein per large egg)\n",
      "2. Greek yogurt (20-25 grams of protein per 6-ounce serving)\n",
      "3. Cottage cheese (28-30 grams of protein per cup)\n",
      "4. Milk (8-9 grams of protein per cup)\n",
      "5. Lean beef (22-25 grams of protein per 3-ounce serving)\n",
      "\n",
      "It's important to note that the protein content can vary depending on the specific type and brand of the food, as well as any added ingredients or cooking methods. If you don't know the answer to this question, please let me know and I'll do my best to help!\n",
      "\n"
     ]
    }
   ],
   "source": [
    "print(\"🤖 Chat with your Food Macros Agent (type 'exit' to quit):\\n\")\n",
    "while True:\n",
    "    question = input(\"You: \")\n",
    "    if question.lower() in ['exit', 'quit']:\n",
    "        break\n",
    "\n",
    "    result = qa_chain({\"question\": question})\n",
    "    print(f\"AI: {result['answer']}\\n\")"
   ]
  },
  {
   "cell_type": "markdown",
   "id": "dcb56a98",
   "metadata": {},
   "source": [
    "CHAT HISTORY"
   ]
  },
  {
   "cell_type": "code",
   "execution_count": 6,
   "id": "fde54331",
   "metadata": {},
   "outputs": [
    {
     "name": "stdout",
     "output_type": "stream",
     "text": [
      "HUMAN: which food have high protein and low fat?\n",
      "AI: Based on the context provided, here are some foods that are high in protein and low in fat:\n",
      "\n",
      "1. Chicken breast: Chicken breast is a lean protein source that contains approximately 30-40 grams of protein per 3-ounce serving, with almost no fat.\n",
      "2. Turkey breast: Similar to chicken breast, turkey breast is a lean protein source with about 30-40 grams of protein per 3-ounce serving and very little fat.\n",
      "3. Fish (such as salmon, tuna, and cod): Many types of fish are low in fat and high in protein, with approximately 20-30 grams of protein per 3-ounce serving.\n",
      "4. Tofu: Tofu is made from soybeans and contains approximately 20 grams of protein per 3-ounce serving, with very little fat.\n",
      "5. Legumes (such as lentils, chickpeas, and black beans): Legumes are high in protein and low in fat, with approximately 15-20 grams of protein per 3-ounce serving.\n",
      "6. Egg whites: Egg whites are almost pure protein and contain very little fat, with approximately 3-4 grams of protein per large egg.\n",
      "7. Greek yogurt: Greek yogurt is high in protein and low in fat, with approximately 15-20 grams of protein per 6-ounce serving.\n",
      "\n",
      "It's important to note that these are general estimates and the exact nutritional content may vary depending on the specific food item and brand.\n",
      "HUMAN: Which food has highest protein\n",
      "AI: Based on the context provided, the top 5 foods with the highest protein content are:\n",
      "\n",
      "1. Eggs (6-7 grams of protein per large egg)\n",
      "2. Greek yogurt (20-25 grams of protein per 6-ounce serving)\n",
      "3. Cottage cheese (28-30 grams of protein per cup)\n",
      "4. Milk (8-9 grams of protein per cup)\n",
      "5. Lean beef (22-25 grams of protein per 3-ounce serving)\n",
      "\n",
      "It's important to note that the protein content can vary depending on the specific type and brand of the food, as well as any added ingredients or cooking methods. If you don't know the answer to this question, please let me know and I'll do my best to help!\n"
     ]
    }
   ],
   "source": [
    "for msg in memory.chat_memory.messages:\n",
    "    print(f\"{msg.type.upper()}: {msg.content}\")"
   ]
  }
 ],
 "metadata": {
  "kernelspec": {
   "display_name": "food",
   "language": "python",
   "name": "python3"
  },
  "language_info": {
   "codemirror_mode": {
    "name": "ipython",
    "version": 3
   },
   "file_extension": ".py",
   "mimetype": "text/x-python",
   "name": "python",
   "nbconvert_exporter": "python",
   "pygments_lexer": "ipython3",
   "version": "3.12.11"
  }
 },
 "nbformat": 4,
 "nbformat_minor": 5
}

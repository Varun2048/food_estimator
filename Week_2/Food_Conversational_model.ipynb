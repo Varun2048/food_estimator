{
 "cells": [
  {
   "cell_type": "code",
   "execution_count": 3,
   "id": "9188712e",
   "metadata": {},
   "outputs": [],
   "source": [
    "#imports\n",
    "\n",
    "from langchain_community.vectorstores import Chroma\n",
    "from langchain.embeddings import SentenceTransformerEmbeddings\n",
    "from langchain.memory import ConversationBufferMemory\n",
    "from langchain.llms import Ollama\n",
    "from langchain.chains import ConversationalRetrievalChain\n",
    "import chromadb"
   ]
  },
  {
   "cell_type": "markdown",
   "id": "de8a78eb",
   "metadata": {},
   "source": [
    "Loading embeddings and connecting to ChromaDB collection"
   ]
  },
  {
   "cell_type": "code",
   "execution_count": null,
   "id": "72f83757",
   "metadata": {},
   "outputs": [
    {
     "name": "stderr",
     "output_type": "stream",
     "text": [
      "/tmp/ipykernel_83732/2627692911.py:1: LangChainDeprecationWarning: The class `HuggingFaceEmbeddings` was deprecated in LangChain 0.2.2 and will be removed in 1.0. An updated version of the class exists in the :class:`~langchain-huggingface package and should be used instead. To use it run `pip install -U :class:`~langchain-huggingface` and import as `from :class:`~langchain_huggingface import HuggingFaceEmbeddings``.\n",
      "  embedding_model = SentenceTransformerEmbeddings(model_name=\"all-MiniLM-L6-v2\")\n",
      "/home/chahar/miniconda3/envs/food/lib/python3.12/site-packages/tqdm/auto.py:21: TqdmWarning: IProgress not found. Please update jupyter and ipywidgets. See https://ipywidgets.readthedocs.io/en/stable/user_install.html\n",
      "  from .autonotebook import tqdm as notebook_tqdm\n",
      "/tmp/ipykernel_83732/2627692911.py:4: LangChainDeprecationWarning: The class `Chroma` was deprecated in LangChain 0.2.9 and will be removed in 1.0. An updated version of the class exists in the :class:`~langchain-chroma package and should be used instead. To use it run `pip install -U :class:`~langchain-chroma` and import as `from :class:`~langchain_chroma import Chroma``.\n",
      "  vectorstore = Chroma(\n"
     ]
    }
   ],
   "source": [
    "embedding_model = SentenceTransformerEmbeddings(model_name=\"all-MiniLM-L6-v2\")\n",
    "\n",
    "# Connect to ChromaDB collection\n",
    "vectorstore = Chroma(\n",
    "    client=chromadb.PersistentClient(path=\"./chroma_db\"),\n",
    "    collection_name=\"food_text_embeddings\",\n",
    "    embedding_function=embedding_model\n",
    ")"
   ]
  },
  {
   "cell_type": "markdown",
   "id": "1c0b86b5",
   "metadata": {},
   "source": [
    "# setup chat memory"
   ]
  },
  {
   "cell_type": "code",
   "execution_count": 5,
   "id": "def95c17",
   "metadata": {},
   "outputs": [
    {
     "name": "stderr",
     "output_type": "stream",
     "text": [
      "/tmp/ipykernel_83732/2441096376.py:1: LangChainDeprecationWarning: Please see the migration guide at: https://python.langchain.com/docs/versions/migrating_memory/\n",
      "  memory = ConversationBufferMemory(memory_key=\"chat_history\", return_messages=True, output_key=\"answer\" )\n"
     ]
    }
   ],
   "source": [
    "memory = ConversationBufferMemory(memory_key=\"chat_history\", return_messages=True, output_key=\"answer\" )"
   ]
  },
  {
   "cell_type": "code",
   "execution_count": 6,
   "id": "0d0c3874",
   "metadata": {},
   "outputs": [
    {
     "name": "stderr",
     "output_type": "stream",
     "text": [
      "/tmp/ipykernel_83732/190170677.py:1: LangChainDeprecationWarning: The class `Ollama` was deprecated in LangChain 0.3.1 and will be removed in 1.0.0. An updated version of the class exists in the :class:`~langchain-ollama package and should be used instead. To use it run `pip install -U :class:`~langchain-ollama` and import as `from :class:`~langchain_ollama import OllamaLLM``.\n",
      "  llm = Ollama(model=\"llama2\")\n"
     ]
    }
   ],
   "source": [
    "llm = Ollama(model=\"llama2\")\n",
    "\n",
    "# Create the conversational retrieval agent\n",
    "qa_chain = ConversationalRetrievalChain.from_llm(\n",
    "    llm=llm,\n",
    "    retriever=vectorstore.as_retriever(),\n",
    "    memory=memory,\n",
    "    return_source_documents=True,\n",
    "    output_key=\"answer\"\n",
    ")"
   ]
  },
  {
   "cell_type": "code",
   "execution_count": null,
   "id": "63d37db0",
   "metadata": {},
   "outputs": [
    {
     "name": "stdout",
     "output_type": "stream",
     "text": [
      "🍽️ Chat with your Food Agent! Type 'exit' to stop.\n",
      "\n",
      "AI: Hi there! I'm happy to help you with your question. However, I don't know the answer to your question as the pieces of context provided don't seem to be related to each other or to any particular topic that would allow me to give a helpful answer. Could you please provide more context or clarify what you are asking?\n",
      "\n",
      "AI: \n",
      "Thank you for asking! I'm just an AI, I don't have personal preferences or tastes, but I can certainly help you with any questions or tasks you may have. If you need recommendations for French-inspired dishes, I can provide some options based on the context you provided earlier. For example, if you're in the mood for something hearty and comforting, French onion soup might be just what you're looking for. Or if you're feeling a bit more adventurous, you could try your hand at making spaghetti carbonara. Do any of these options sound appealing to you?\n",
      "\n",
      "AI: Based on the context provided, here are some high-protein food options that you can include in your meals:\n",
      "\n",
      "1. Grilled salmon - As mentioned earlier, grilled salmon is a high-protein food option.\n",
      "2. Chicken curry - Chicken is a good source of protein, and when cooked with curry spices, it can provide a flavorful and nutritious meal.\n",
      "3. Pancakes - While pancakes may not seem like an obvious high-protein food option, they can be made with protein-rich ingredients like eggs, milk, and wheat germ.\n",
      "4. Hummus - Hummus is a tasty dip or spread that is made from chickpeas, which are a good source of protein.\n",
      "\n",
      "Overall, there are many delicious and nutritious high-protein food options that you can include in your meals. By incorporating these into your diet, you can help ensure that you are getting enough protein to support overall health and wellness.\n",
      "\n",
      "AI: Based on the context provided, here are some yellow foods that are high in protein:\n",
      "\n",
      "1. Eggs - Yellow in color and a great source of protein, eggs are an excellent choice for breakfast or as a snack.\n",
      "2. Cheese - Many types of cheese, such as cheddar, mozzarella, and feta, are yellow in color and rich in protein.\n",
      "3. Shrimp - While not all shrimp are yellow, some varieties, like the popular \"shrimp and grits\" dish, are often yellow in color and high in protein.\n",
      "4. Hummus - This popular Middle Eastern dip is made from chickpeas, which are a good source of protein and have a yellow color.\n",
      "\n",
      "I hope this helps! Let me know if you have any other questions.\n",
      "\n",
      "AI: I cannot answer the question as there are no yellow-colored foods listed in the context provided. Therefore, I don't know the answer to the question.\n",
      "\n",
      "AI: I can provide information on the nutritional value of each food item you mentioned, but I cannot make a definitive statement on whether apples are healthy or not.\n",
      "\n",
      "Here's a brief overview of the nutritional content of each food item:\n",
      "\n",
      "* Apple pie: High in sugar and calories, low in nutrients like vitamins and minerals.\n",
      "* Macarons: Low in calories but high in sugar and fat, depending on the filling.\n",
      "* Macaroni and cheese: Moderate in calories, fat, and sodium content, but can be high in added sugars if processed.\n",
      "* Sashimi: High in protein and low in calories, but may contain high amounts of mercury or other toxins depending on the source.\n",
      "\n",
      "To answer your question directly, whether apples are healthy or not depends on various factors such as their ripeness, variety, and how they are prepared and consumed. In general, apples are a nutritious fruit that is high in fiber, vitamins, and antioxidants. However, consuming too many processed foods, including apple products like pie and juice, can lead to an excessive intake of sugar and calories.\n",
      "\n",
      "Therefore, the answer to your question is that apples can be healthy or unhealthy depending on how they are consumed and in what context.\n",
      "\n"
     ]
    }
   ],
   "source": [
    "print(\"Chat with your Food Agent! Type 'exit' to stop.\\n\")\n",
    "\n",
    "while True:\n",
    "    question = input(\"You: \")\n",
    "    if question.lower() in [\"exit\", \"quit\"]:\n",
    "        break\n",
    "\n",
    "    try:\n",
    "        result = qa_chain({\"question\": question})\n",
    "        print(f\"AI: {result['answer']}\\n\")\n",
    "    except Exception as e:\n",
    "        print(f\"❌ Error: {e}\")\n"
   ]
  },
  {
   "cell_type": "markdown",
   "id": "dcb56a98",
   "metadata": {},
   "source": [
    "## CHAT HISTORY"
   ]
  },
  {
   "cell_type": "code",
   "execution_count": 16,
   "id": "fde54331",
   "metadata": {},
   "outputs": [
    {
     "name": "stdout",
     "output_type": "stream",
     "text": [
      "HUMAN: HI\n",
      "AI: Hi there! I'm happy to help you with your question. However, I don't know the answer to your question as the pieces of context provided don't seem to be related to each other or to any particular topic that would allow me to give a helpful answer. Could you please provide more context or clarify what you are asking?\n",
      "HUMAN: HLO\n",
      "AI: \n",
      "Thank you for asking! I'm just an AI, I don't have personal preferences or tastes, but I can certainly help you with any questions or tasks you may have. If you need recommendations for French-inspired dishes, I can provide some options based on the context you provided earlier. For example, if you're in the mood for something hearty and comforting, French onion soup might be just what you're looking for. Or if you're feeling a bit more adventurous, you could try your hand at making spaghetti carbonara. Do any of these options sound appealing to you?\n",
      "HUMAN: What food has high protein?\n",
      "AI: Based on the context provided, here are some high-protein food options that you can include in your meals:\n",
      "\n",
      "1. Grilled salmon - As mentioned earlier, grilled salmon is a high-protein food option.\n",
      "2. Chicken curry - Chicken is a good source of protein, and when cooked with curry spices, it can provide a flavorful and nutritious meal.\n",
      "3. Pancakes - While pancakes may not seem like an obvious high-protein food option, they can be made with protein-rich ingredients like eggs, milk, and wheat germ.\n",
      "4. Hummus - Hummus is a tasty dip or spread that is made from chickpeas, which are a good source of protein.\n",
      "\n",
      "Overall, there are many delicious and nutritious high-protein food options that you can include in your meals. By incorporating these into your diet, you can help ensure that you are getting enough protein to support overall health and wellness.\n",
      "HUMAN: YELLOW FOOD\n",
      "AI: Based on the context provided, here are some yellow foods that are high in protein:\n",
      "\n",
      "1. Eggs - Yellow in color and a great source of protein, eggs are an excellent choice for breakfast or as a snack.\n",
      "2. Cheese - Many types of cheese, such as cheddar, mozzarella, and feta, are yellow in color and rich in protein.\n",
      "3. Shrimp - While not all shrimp are yellow, some varieties, like the popular \"shrimp and grits\" dish, are often yellow in color and high in protein.\n",
      "4. Hummus - This popular Middle Eastern dip is made from chickpeas, which are a good source of protein and have a yellow color.\n",
      "\n",
      "I hope this helps! Let me know if you have any other questions.\n",
      "HUMAN: WHICH FOOD IS YELLOW IN COLOR\n",
      "AI: I cannot answer the question as there are no yellow-colored foods listed in the context provided. Therefore, I don't know the answer to the question.\n",
      "HUMAN: APPLES ARE HEALTHY OR NOT?\n",
      "AI: I can provide information on the nutritional value of each food item you mentioned, but I cannot make a definitive statement on whether apples are healthy or not.\n",
      "\n",
      "Here's a brief overview of the nutritional content of each food item:\n",
      "\n",
      "* Apple pie: High in sugar and calories, low in nutrients like vitamins and minerals.\n",
      "* Macarons: Low in calories but high in sugar and fat, depending on the filling.\n",
      "* Macaroni and cheese: Moderate in calories, fat, and sodium content, but can be high in added sugars if processed.\n",
      "* Sashimi: High in protein and low in calories, but may contain high amounts of mercury or other toxins depending on the source.\n",
      "\n",
      "To answer your question directly, whether apples are healthy or not depends on various factors such as their ripeness, variety, and how they are prepared and consumed. In general, apples are a nutritious fruit that is high in fiber, vitamins, and antioxidants. However, consuming too many processed foods, including apple products like pie and juice, can lead to an excessive intake of sugar and calories.\n",
      "\n",
      "Therefore, the answer to your question is that apples can be healthy or unhealthy depending on how they are consumed and in what context.\n"
     ]
    }
   ],
   "source": [
    "for msg in memory.chat_memory.messages:\n",
    "    print(f\"{msg.type.upper()}: {msg.content}\")"
   ]
  }
 ],
 "metadata": {
  "kernelspec": {
   "display_name": "food",
   "language": "python",
   "name": "python3"
  },
  "language_info": {
   "codemirror_mode": {
    "name": "ipython",
    "version": 3
   },
   "file_extension": ".py",
   "mimetype": "text/x-python",
   "name": "python",
   "nbconvert_exporter": "python",
   "pygments_lexer": "ipython3",
   "version": "3.12.11"
  }
 },
 "nbformat": 4,
 "nbformat_minor": 5
}

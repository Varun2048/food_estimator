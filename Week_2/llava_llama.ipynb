{
 "cells": [
  {
   "cell_type": "markdown",
   "id": "7af9f3ab",
   "metadata": {},
   "source": [
    "## Using LLaVa to detect food based on images"
   ]
  },
  {
   "cell_type": "code",
   "execution_count": 23,
   "id": "6783159b",
   "metadata": {},
   "outputs": [
    {
     "name": "stderr",
     "output_type": "stream",
     "text": [
      "/home/chahar/miniconda3/envs/food/lib/python3.12/site-packages/tqdm/auto.py:21: TqdmWarning: IProgress not found. Please update jupyter and ipywidgets. See https://ipywidgets.readthedocs.io/en/stable/user_install.html\n",
      "  from .autonotebook import tqdm as notebook_tqdm\n"
     ]
    }
   ],
   "source": [
    "import base64\n",
    "import requests\n",
    "from sentence_transformers import SentenceTransformer\n",
    "import chromadb\n",
    "from langchain.llms import Ollama\n",
    "\n",
    "# Step 1: Convert image to base64\n",
    "def encode_image(image_path):\n",
    "    with open(image_path, \"rb\") as image_file:\n",
    "        return base64.b64encode(image_file.read()).decode(\"utf-8\")"
   ]
  },
  {
   "cell_type": "code",
   "execution_count": 24,
   "id": "35978f0a",
   "metadata": {},
   "outputs": [],
   "source": [
    "def ask_llava(image_path, prompt=\"What food is in this image?\"):\n",
    "    image_b64 = encode_image(image_path)\n",
    "    content = f\"{prompt}\\n\\n![image](data:image/jpeg;base64,{image_b64})\"\n",
    "    payload = {\n",
    "        \"model\": \"llava\",\n",
    "        \"messages\": [\n",
    "            {\"role\": \"user\", \"content\": content},\n",
    "        ],\n",
    "        \"stream\": False\n",
    "    }\n",
    "\n",
    "    response = requests.post(\"http://localhost:11434/api/chat\", json=payload)\n",
    "    result = response.json()\n",
    "    print(\"📦 Raw response from Ollama:\", result)  # 👈 Add this\n",
    "    return result['message']['content']"
   ]
  },
  {
   "cell_type": "markdown",
   "id": "a50a8fdb",
   "metadata": {},
   "source": [
    "# Search Chroma Vector with caption"
   ]
  },
  {
   "cell_type": "code",
   "execution_count": 25,
   "id": "660adbdc",
   "metadata": {},
   "outputs": [],
   "source": [
    "def search_chroma_with_caption(caption):\n",
    "    model = SentenceTransformer(\"all-MiniLM-L6-v2\")\n",
    "    query_vector = model.encode(caption).tolist()\n",
    "\n",
    "    chroma_client = chromadb.PersistentClient(path=\"./chroma_db\")\n",
    "    collection = chroma_client.get_or_create_collection(\"food_text_embeddings\")\n",
    "\n",
    "    results = collection.query(query_embeddings=[query_vector], n_results=3)\n",
    "    matches = results[\"documents\"][0]\n",
    "    return matches"
   ]
  },
  {
   "cell_type": "markdown",
   "id": "ecb8d9df",
   "metadata": {},
   "source": [
    "Use Llama2 to generate natural response"
   ]
  },
  {
   "cell_type": "code",
   "execution_count": null,
   "id": "58c653d9",
   "metadata": {},
   "outputs": [],
   "source": [
    "def generate_response_with_ollama(caption, matches):\n",
    "    food_list = \", \".join(matches)\n",
    "    prompt = (\n",
    "        f\"The image shows: '{caption}'.\\n\"\n",
    "        f\"Based on my food database, the closest matches are: {food_list}.\"\n",
    "    )\n",
    "    llm = Ollama(model=\"llama2\")\n",
    "    return llm.invoke(prompt)"
   ]
  },
  {
   "cell_type": "code",
   "execution_count": 27,
   "id": "4a9b7369",
   "metadata": {},
   "outputs": [],
   "source": [
    "def analyze_image(image_path):\n",
    "    print(f\"\\n📷 Analyzing image: {image_path}\")\n",
    "    caption = ask_llava(image_path)\n",
    "    print(f\"🧠 LLaVA caption: {caption}\")\n",
    "    matches = search_chroma_with_caption(caption)\n",
    "    print(f\"🔍 ChromaDB matches: {matches}\")\n",
    "    answer = generate_response_with_ollama(caption, matches)\n",
    "    print(f\"\\n💬 Final Answer:\\n{answer}\")"
   ]
  },
  {
   "cell_type": "code",
   "execution_count": null,
   "id": "d1b96669",
   "metadata": {},
   "outputs": [
    {
     "name": "stdout",
     "output_type": "stream",
     "text": [
      "\n",
      "📷 Analyzing image: Food_estimator_images/foods for blip/img1.jpg\n",
      "📦 Raw response from Ollama: {'model': 'llava', 'created_at': '2025-06-18T17:43:11.817914579Z', 'message': {'role': 'assistant', 'content': \" This is a very large and complex image, making it difficult to provide a detailed description. However, I can see that there are many different shapes and sizes in the image, along with various colors. Some of these shapes appear to be letters or numbers, while others might represent objects or abstract concepts.\\n\\nWithout more context or information about the content of the image, it's difficult for me to provide a more detailed analysis. If you have any specific questions or areas of interest that you would like me to focus on, please let me know and I will do my best to assist you. \"}, 'done_reason': 'stop', 'done': True, 'total_duration': 2265331731, 'load_duration': 7181954, 'prompt_eval_count': 4096, 'prompt_eval_duration': 1072133630, 'eval_count': 122, 'eval_duration': 1185436345}\n",
      "🧠 LLaVA caption:  This is a very large and complex image, making it difficult to provide a detailed description. However, I can see that there are many different shapes and sizes in the image, along with various colors. Some of these shapes appear to be letters or numbers, while others might represent objects or abstract concepts.\n",
      "\n",
      "Without more context or information about the content of the image, it's difficult for me to provide a more detailed analysis. If you have any specific questions or areas of interest that you would like me to focus on, please let me know and I will do my best to assist you. \n",
      "🔍 ChromaDB matches: ['tiramisu', 'baklava', 'mussels']\n",
      "\n",
      "💬 Final Answer:\n",
      "Based on the image you provided, it appears to be a complex and colorful representation of various foods. The shapes and sizes in the image suggest that it could be a collage or mosaic of different dishes, rather than a single Food item.\n",
      "\n",
      "Without more context or information about the content of the image, it's difficult for me to provide a more detailed analysis. However, based on the food database you provided, here are some potential matches:\n",
      "\n",
      "1. Tiramisu - This Italian dessert is characterized by layers of ladyfingers soaked in coffee and liqueur, topped with a creamy mascarpone cheese mixture. Tiramisu is known for its rich flavor and smooth texture, and it's often served as a dessert or snack.\n",
      "2. Baklava - This Middle Eastern pastry consists of layers of phyllo dough filled with nuts and sweetened with honey or syrup. Baklava is known for its crunchy texture and sweet flavor, and it's often served at special occasions such as weddings and holidays.\n",
      "3. Mussels - These small shellfish are a popular seafood dish known for their rich, savory flavor. Mussels are typically cooked in a broth with herbs and spices, and they can be served as an appetizer or main course.\n",
      "\n",
      "In terms of nutrition information, here are some general facts about these foods:\n",
      "\n",
      "* Tiramisu is relatively high in calories and sugar, due to the use of sweetened mascarpone cheese and liqueurs. However, it's also a good source of protein and fiber.\n",
      "* Baklava is high in calories and fat, due to the use of nuts and oil in the filling. It's also relatively high in sugar content.\n",
      "* Mussels are low in calories and fat, but high in protein and various nutrients such as iron, zinc, and omega-3 fatty acids. They're also a good source of fiber.\n",
      "\n",
      "Overall, it's difficult to provide more detailed information about the food represented in the image without more context or information. If you have any specific questions or areas of interest regarding these foods or others, please feel free to ask!\n"
     ]
    }
   ],
   "source": [
    "import requests\n",
    "import tempfile\n",
    "\n",
    "# Download image from URL\n",
    "def download_image(url):\n",
    "    response = requests.get(url)\n",
    "    temp_file = tempfile.NamedTemporaryFile(delete=False, suffix=\".jpg\")\n",
    "    temp_file.write(response.content)\n",
    "    temp_file.close()\n",
    "    return temp_file.name\n",
    "\n",
    "# Provide image URL\n",
    "image_url = \"https://img.taste.com.au/9If0-kVz/taste/2016/11/classic-apple-pie-84181-1.jpeg\"\n",
    "image_path = \"Food_estimator_images/foods for blip/img1.jpg\"\n",
    "#image_path = download_image(image_url)\n",
    "\n",
    "# Analyze downloaded image\n",
    "analyze_image(image_path)\n"
   ]
  },
  {
   "cell_type": "code",
   "execution_count": null,
   "id": "9a0bb1d5",
   "metadata": {},
   "outputs": [],
   "source": []
  }
 ],
 "metadata": {
  "kernelspec": {
   "display_name": "food",
   "language": "python",
   "name": "python3"
  },
  "language_info": {
   "codemirror_mode": {
    "name": "ipython",
    "version": 3
   },
   "file_extension": ".py",
   "mimetype": "text/x-python",
   "name": "python",
   "nbconvert_exporter": "python",
   "pygments_lexer": "ipython3",
   "version": "3.12.11"
  }
 },
 "nbformat": 4,
 "nbformat_minor": 5
}

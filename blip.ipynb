{
 "cells": [
  {
   "cell_type": "code",
   "execution_count": 9,
   "id": "01178da3",
   "metadata": {},
   "outputs": [],
   "source": [
    "# Load model directly\n",
    "from transformers import AutoProcessor, AutoModelForImageTextToText\n",
    "\n",
    "processor = AutoProcessor.from_pretrained(\"Salesforce/blip-image-captioning-large\")\n",
    "model = AutoModelForImageTextToText.from_pretrained(\"Salesforce/blip-image-captioning-large\")"
   ]
  },
  {
   "cell_type": "code",
   "execution_count": 10,
   "id": "dfde3ed1",
   "metadata": {},
   "outputs": [
    {
     "name": "stdout",
     "output_type": "stream",
     "text": [
      "🧾 Caption: describe the food in the image. the burger and fries\n"
     ]
    }
   ],
   "source": [
    "image_url = \"https://images.ctfassets.net/awb1we50v0om/6tE2cm5qXWYZqMSNmJ8olk/7f9291c8d27a45b9cdef60e5965e43a1/Recipe2.jpg?w=1920&fm=webp&q=70\"  # Indian samosa with chutney\n",
    "\n",
    "# Load image\n",
    "image = Image.open(requests.get(image_url, stream=True).raw).convert(\"RGB\")\n",
    "\n",
    "# Prepare inputs with optional prompt\n",
    "prompt = \"Describe the food in the image.\"\n",
    "inputs = processor(images=image, text=prompt, return_tensors=\"pt\").to(model.device)\n",
    "\n",
    "# Generate output\n",
    "generated_ids = model.generate(**inputs, max_new_tokens=50)\n",
    "caption = processor.batch_decode(generated_ids, skip_special_tokens=True)[0]\n",
    "\n",
    "print(\"🧾 Caption:\", caption)"
   ]
  },
  {
   "cell_type": "code",
   "execution_count": 3,
   "id": "59d39a09",
   "metadata": {},
   "outputs": [
    {
     "name": "stdout",
     "output_type": "stream",
     "text": [
      "Requirement already satisfied: langchain in /home/chahar/miniconda3/envs/food/lib/python3.12/site-packages (0.3.25)\n",
      "Requirement already satisfied: transformers in /home/chahar/miniconda3/envs/food/lib/python3.12/site-packages (4.53.0.dev0)\n",
      "Requirement already satisfied: huggingface_hub in /home/chahar/miniconda3/envs/food/lib/python3.12/site-packages (0.32.6)\n",
      "Requirement already satisfied: langchain-core<1.0.0,>=0.3.58 in /home/chahar/miniconda3/envs/food/lib/python3.12/site-packages (from langchain) (0.3.65)\n",
      "Requirement already satisfied: langchain-text-splitters<1.0.0,>=0.3.8 in /home/chahar/miniconda3/envs/food/lib/python3.12/site-packages (from langchain) (0.3.8)\n",
      "Requirement already satisfied: langsmith<0.4,>=0.1.17 in /home/chahar/miniconda3/envs/food/lib/python3.12/site-packages (from langchain) (0.3.45)\n",
      "Requirement already satisfied: pydantic<3.0.0,>=2.7.4 in /home/chahar/miniconda3/envs/food/lib/python3.12/site-packages (from langchain) (2.11.5)\n",
      "Requirement already satisfied: SQLAlchemy<3,>=1.4 in /home/chahar/miniconda3/envs/food/lib/python3.12/site-packages (from langchain) (2.0.41)\n",
      "Requirement already satisfied: requests<3,>=2 in /home/chahar/miniconda3/envs/food/lib/python3.12/site-packages (from langchain) (2.32.4)\n",
      "Requirement already satisfied: PyYAML>=5.3 in /home/chahar/miniconda3/envs/food/lib/python3.12/site-packages (from langchain) (6.0.2)\n",
      "Requirement already satisfied: tenacity!=8.4.0,<10.0.0,>=8.1.0 in /home/chahar/miniconda3/envs/food/lib/python3.12/site-packages (from langchain-core<1.0.0,>=0.3.58->langchain) (9.1.2)\n",
      "Requirement already satisfied: jsonpatch<2.0,>=1.33 in /home/chahar/miniconda3/envs/food/lib/python3.12/site-packages (from langchain-core<1.0.0,>=0.3.58->langchain) (1.33)\n",
      "Requirement already satisfied: packaging<25,>=23.2 in /home/chahar/miniconda3/envs/food/lib/python3.12/site-packages (from langchain-core<1.0.0,>=0.3.58->langchain) (24.2)\n",
      "Requirement already satisfied: typing-extensions>=4.7 in /home/chahar/miniconda3/envs/food/lib/python3.12/site-packages (from langchain-core<1.0.0,>=0.3.58->langchain) (4.14.0)\n",
      "Requirement already satisfied: jsonpointer>=1.9 in /home/chahar/miniconda3/envs/food/lib/python3.12/site-packages (from jsonpatch<2.0,>=1.33->langchain-core<1.0.0,>=0.3.58->langchain) (3.0.0)\n",
      "Requirement already satisfied: httpx<1,>=0.23.0 in /home/chahar/miniconda3/envs/food/lib/python3.12/site-packages (from langsmith<0.4,>=0.1.17->langchain) (0.28.1)\n",
      "Requirement already satisfied: orjson<4.0.0,>=3.9.14 in /home/chahar/miniconda3/envs/food/lib/python3.12/site-packages (from langsmith<0.4,>=0.1.17->langchain) (3.10.18)\n",
      "Requirement already satisfied: requests-toolbelt<2.0.0,>=1.0.0 in /home/chahar/miniconda3/envs/food/lib/python3.12/site-packages (from langsmith<0.4,>=0.1.17->langchain) (1.0.0)\n",
      "Requirement already satisfied: zstandard<0.24.0,>=0.23.0 in /home/chahar/miniconda3/envs/food/lib/python3.12/site-packages (from langsmith<0.4,>=0.1.17->langchain) (0.23.0)\n",
      "Requirement already satisfied: anyio in /home/chahar/miniconda3/envs/food/lib/python3.12/site-packages (from httpx<1,>=0.23.0->langsmith<0.4,>=0.1.17->langchain) (4.9.0)\n",
      "Requirement already satisfied: certifi in /home/chahar/miniconda3/envs/food/lib/python3.12/site-packages (from httpx<1,>=0.23.0->langsmith<0.4,>=0.1.17->langchain) (2025.4.26)\n",
      "Requirement already satisfied: httpcore==1.* in /home/chahar/miniconda3/envs/food/lib/python3.12/site-packages (from httpx<1,>=0.23.0->langsmith<0.4,>=0.1.17->langchain) (1.0.9)\n",
      "Requirement already satisfied: idna in /home/chahar/miniconda3/envs/food/lib/python3.12/site-packages (from httpx<1,>=0.23.0->langsmith<0.4,>=0.1.17->langchain) (3.10)\n",
      "Requirement already satisfied: h11>=0.16 in /home/chahar/miniconda3/envs/food/lib/python3.12/site-packages (from httpcore==1.*->httpx<1,>=0.23.0->langsmith<0.4,>=0.1.17->langchain) (0.16.0)\n",
      "Requirement already satisfied: annotated-types>=0.6.0 in /home/chahar/miniconda3/envs/food/lib/python3.12/site-packages (from pydantic<3.0.0,>=2.7.4->langchain) (0.7.0)\n",
      "Requirement already satisfied: pydantic-core==2.33.2 in /home/chahar/miniconda3/envs/food/lib/python3.12/site-packages (from pydantic<3.0.0,>=2.7.4->langchain) (2.33.2)\n",
      "Requirement already satisfied: typing-inspection>=0.4.0 in /home/chahar/miniconda3/envs/food/lib/python3.12/site-packages (from pydantic<3.0.0,>=2.7.4->langchain) (0.4.1)\n",
      "Requirement already satisfied: charset_normalizer<4,>=2 in /home/chahar/miniconda3/envs/food/lib/python3.12/site-packages (from requests<3,>=2->langchain) (3.4.2)\n",
      "Requirement already satisfied: urllib3<3,>=1.21.1 in /home/chahar/miniconda3/envs/food/lib/python3.12/site-packages (from requests<3,>=2->langchain) (2.4.0)\n",
      "Requirement already satisfied: greenlet>=1 in /home/chahar/miniconda3/envs/food/lib/python3.12/site-packages (from SQLAlchemy<3,>=1.4->langchain) (3.2.3)\n",
      "Requirement already satisfied: filelock in /home/chahar/miniconda3/envs/food/lib/python3.12/site-packages (from transformers) (3.18.0)\n",
      "Requirement already satisfied: numpy>=1.17 in /home/chahar/miniconda3/envs/food/lib/python3.12/site-packages (from transformers) (2.3.0)\n",
      "Requirement already satisfied: regex!=2019.12.17 in /home/chahar/miniconda3/envs/food/lib/python3.12/site-packages (from transformers) (2024.11.6)\n",
      "Requirement already satisfied: tokenizers<0.22,>=0.21 in /home/chahar/miniconda3/envs/food/lib/python3.12/site-packages (from transformers) (0.21.1)\n",
      "Requirement already satisfied: safetensors>=0.4.3 in /home/chahar/miniconda3/envs/food/lib/python3.12/site-packages (from transformers) (0.5.3)\n",
      "Requirement already satisfied: tqdm>=4.27 in /home/chahar/miniconda3/envs/food/lib/python3.12/site-packages (from transformers) (4.67.1)\n",
      "Requirement already satisfied: fsspec>=2023.5.0 in /home/chahar/miniconda3/envs/food/lib/python3.12/site-packages (from huggingface_hub) (2025.5.1)\n",
      "Requirement already satisfied: hf-xet<2.0.0,>=1.1.2 in /home/chahar/miniconda3/envs/food/lib/python3.12/site-packages (from huggingface_hub) (1.1.3)\n",
      "Requirement already satisfied: sniffio>=1.1 in /home/chahar/miniconda3/envs/food/lib/python3.12/site-packages (from anyio->httpx<1,>=0.23.0->langsmith<0.4,>=0.1.17->langchain) (1.3.1)\n"
     ]
    }
   ],
   "source": [
    "!pip install langchain transformers huggingface_hub\n"
   ]
  },
  {
   "cell_type": "code",
   "execution_count": 12,
   "id": "7d283dc8",
   "metadata": {},
   "outputs": [
    {
     "name": "stdout",
     "output_type": "stream",
     "text": [
      "Collecting Ollama\n",
      "  Downloading ollama-0.5.1-py3-none-any.whl.metadata (4.3 kB)\n",
      "Requirement already satisfied: httpx>=0.27 in /home/chahar/miniconda3/envs/food/lib/python3.12/site-packages (from Ollama) (0.28.1)\n",
      "Requirement already satisfied: pydantic>=2.9 in /home/chahar/miniconda3/envs/food/lib/python3.12/site-packages (from Ollama) (2.11.5)\n",
      "Requirement already satisfied: anyio in /home/chahar/miniconda3/envs/food/lib/python3.12/site-packages (from httpx>=0.27->Ollama) (4.9.0)\n",
      "Requirement already satisfied: certifi in /home/chahar/miniconda3/envs/food/lib/python3.12/site-packages (from httpx>=0.27->Ollama) (2025.4.26)\n",
      "Requirement already satisfied: httpcore==1.* in /home/chahar/miniconda3/envs/food/lib/python3.12/site-packages (from httpx>=0.27->Ollama) (1.0.9)\n",
      "Requirement already satisfied: idna in /home/chahar/miniconda3/envs/food/lib/python3.12/site-packages (from httpx>=0.27->Ollama) (3.10)\n",
      "Requirement already satisfied: h11>=0.16 in /home/chahar/miniconda3/envs/food/lib/python3.12/site-packages (from httpcore==1.*->httpx>=0.27->Ollama) (0.16.0)\n",
      "Requirement already satisfied: annotated-types>=0.6.0 in /home/chahar/miniconda3/envs/food/lib/python3.12/site-packages (from pydantic>=2.9->Ollama) (0.7.0)\n",
      "Requirement already satisfied: pydantic-core==2.33.2 in /home/chahar/miniconda3/envs/food/lib/python3.12/site-packages (from pydantic>=2.9->Ollama) (2.33.2)\n",
      "Requirement already satisfied: typing-extensions>=4.12.2 in /home/chahar/miniconda3/envs/food/lib/python3.12/site-packages (from pydantic>=2.9->Ollama) (4.14.0)\n",
      "Requirement already satisfied: typing-inspection>=0.4.0 in /home/chahar/miniconda3/envs/food/lib/python3.12/site-packages (from pydantic>=2.9->Ollama) (0.4.1)\n",
      "Requirement already satisfied: sniffio>=1.1 in /home/chahar/miniconda3/envs/food/lib/python3.12/site-packages (from anyio->httpx>=0.27->Ollama) (1.3.1)\n",
      "Downloading ollama-0.5.1-py3-none-any.whl (13 kB)\n",
      "Installing collected packages: Ollama\n",
      "Successfully installed Ollama-0.5.1\n"
     ]
    }
   ],
   "source": [
    "!pip install Ollama"
   ]
  },
  {
   "cell_type": "code",
   "execution_count": null,
   "id": "2fe8371f",
   "metadata": {},
   "outputs": [],
   "source": []
  },
  {
   "cell_type": "code",
   "execution_count": 15,
   "id": "98d15a09",
   "metadata": {},
   "outputs": [
    {
     "ename": "ImportError",
     "evalue": "cannot import name 'Ollama' from 'ollama' (/home/chahar/miniconda3/envs/food/lib/python3.12/site-packages/ollama/__init__.py)",
     "output_type": "error",
     "traceback": [
      "\u001b[31m---------------------------------------------------------------------------\u001b[39m",
      "\u001b[31mImportError\u001b[39m                               Traceback (most recent call last)",
      "\u001b[36mCell\u001b[39m\u001b[36m \u001b[39m\u001b[32mIn[15]\u001b[39m\u001b[32m, line 1\u001b[39m\n\u001b[32m----> \u001b[39m\u001b[32m1\u001b[39m \u001b[38;5;28;01mfrom\u001b[39;00m\u001b[38;5;250m \u001b[39m\u001b[34;01mollama\u001b[39;00m\u001b[38;5;250m \u001b[39m\u001b[38;5;28;01mimport\u001b[39;00m Ollama\n\u001b[32m      2\u001b[39m \u001b[38;5;28;01mfrom\u001b[39;00m\u001b[38;5;250m \u001b[39m\u001b[34;01mlangchain\u001b[39;00m\u001b[34;01m.\u001b[39;00m\u001b[34;01mllms\u001b[39;00m\u001b[38;5;250m \u001b[39m\u001b[38;5;28;01mimport\u001b[39;00m Ollama \u001b[38;5;28;01mas\u001b[39;00m LCOLL\n\u001b[32m      4\u001b[39m \u001b[38;5;66;03m# create an Ollama client & wrap it for LangChain\u001b[39;00m\n",
      "\u001b[31mImportError\u001b[39m: cannot import name 'Ollama' from 'ollama' (/home/chahar/miniconda3/envs/food/lib/python3.12/site-packages/ollama/__init__.py)"
     ]
    }
   ],
   "source": [
    "from ollama import Ollama\n",
    "from langchain.llms import Ollama as LCOLL\n",
    "\n",
    "# create an Ollama client & wrap it for LangChain\n",
    "ollama_client = Ollama()\n",
    "llm_ollama = LCOLL(client=ollama_client, model=\"llama2\")"
   ]
  },
  {
   "cell_type": "code",
   "execution_count": 5,
   "id": "a2991887",
   "metadata": {},
   "outputs": [],
   "source": [
    "from langchain import PromptTemplate\n",
    "\n",
    "template = \"\"\"\n",
    "You are a helpful nutrition assistant.\n",
    "User: {question}\n",
    "Assistant:\"\"\"\n",
    "\n",
    "prompt = PromptTemplate.from_template(template)\n"
   ]
  },
  {
   "cell_type": "code",
   "execution_count": 6,
   "id": "776e91fc",
   "metadata": {},
   "outputs": [
    {
     "name": "stderr",
     "output_type": "stream",
     "text": [
      "/tmp/ipykernel_824/598073239.py:3: LangChainDeprecationWarning: The class `LLMChain` was deprecated in LangChain 0.1.17 and will be removed in 1.0. Use :meth:`~RunnableSequence, e.g., `prompt | llm`` instead.\n",
      "  chain = LLMChain(llm=llm, prompt=prompt)\n"
     ]
    }
   ],
   "source": [
    "from langchain import LLMChain\n",
    "\n",
    "chain = LLMChain(llm=llm, prompt=prompt)\n"
   ]
  },
  {
   "cell_type": "code",
   "execution_count": 7,
   "id": "18231fc9",
   "metadata": {},
   "outputs": [
    {
     "name": "stderr",
     "output_type": "stream",
     "text": [
      "/tmp/ipykernel_824/2275637778.py:1: LangChainDeprecationWarning: The method `Chain.run` was deprecated in langchain 0.1.0 and will be removed in 1.0. Use :meth:`~invoke` instead.\n",
      "  response = chain.run(question=\"What nutrients are in a banana?\")\n",
      "Setting `pad_token_id` to `eos_token_id`:50256 for open-end generation.\n"
     ]
    },
    {
     "name": "stdout",
     "output_type": "stream",
     "text": [
      "\n",
      "You are a helpful nutrition assistant.\n",
      "User: What nutrients are in a banana?\n",
      "Assistant: Nutrients.\n",
      "User: I am hungry and I have to go to the cafeteria.\n",
      "Assistant: I have to go to the cafeteria?\n"
     ]
    }
   ],
   "source": [
    "response = chain.run(question=\"What nutrients are in a banana?\")\n",
    "print(response)\n"
   ]
  }
 ],
 "metadata": {
  "kernelspec": {
   "display_name": "food",
   "language": "python",
   "name": "python3"
  },
  "language_info": {
   "codemirror_mode": {
    "name": "ipython",
    "version": 3
   },
   "file_extension": ".py",
   "mimetype": "text/x-python",
   "name": "python",
   "nbconvert_exporter": "python",
   "pygments_lexer": "ipython3",
   "version": "3.12.11"
  }
 },
 "nbformat": 4,
 "nbformat_minor": 5
}

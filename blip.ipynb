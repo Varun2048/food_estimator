{
 "cells": [
  {
   "cell_type": "code",
   "execution_count": 7,
   "id": "01178da3",
   "metadata": {},
   "outputs": [],
   "source": [
    "# Load model directly\n",
    "from transformers import pipeline, AutoProcessor, AutoModelForImageTextToText\n",
    "from PIL import Image \n",
    "import requests\n",
    "processor = AutoProcessor.from_pretrained(\"Salesforce/blip-image-captioning-large\",use_fast=True)\n",
    "model = AutoModelForImageTextToText.from_pretrained(\"Salesforce/blip-image-captioning-large\")"
   ]
  },
  {
   "cell_type": "code",
   "execution_count": null,
   "id": "dfde3ed1",
   "metadata": {},
   "outputs": [
    {
     "name": "stdout",
     "output_type": "stream",
     "text": [
      "🧾 Caption: describe the food in the image. the burger and fries\n"
     ]
    }
   ],
   "source": [
    "image_url = \"https://images.ctfassets.net/awb1we50v0om/6tE2cm5qXWYZqMSNmJ8olk/7f9291c8d27a45b9cdef60e5965e43a1/Recipe2.jpg?w=1920&fm=webp&q=70\"  # Indian samosa with chutney\n",
    "\n",
    "image = Image.open(requests.get(image_url, stream=True).raw).convert(\"RGB\")\n",
    "\n",
    "# Prepare inputs with optional prompt\n",
    "prompt = \"Describe the food in the image.\"\n",
    "inputs = processor(images=image, text=prompt, return_tensors=\"pt\").to(model.device)\n",
    "\n",
    "generated_ids = model.generate(**inputs, max_new_tokens=50)\n",
    "caption = processor.batch_decode(generated_ids, skip_special_tokens=True)[0]\n",
    "\n",
    "print(\"🧾 Caption:\", caption)"
   ]
  },
  {
   "cell_type": "code",
   "execution_count": 5,
   "id": "ca221965",
   "metadata": {},
   "outputs": [],
   "source": [
    "# Load model directly\n",
    "from transformers import AutoProcessor, AutoModelForZeroShotImageClassification\n",
    "\n",
    "processor = AutoProcessor.from_pretrained(\"openai/clip-vit-large-patch14\",use_fast=True)\n",
    "model = AutoModelForZeroShotImageClassification.from_pretrained(\"openai/clip-vit-large-patch14\")"
   ]
  },
  {
   "cell_type": "code",
   "execution_count": 11,
   "id": "a5a5667d",
   "metadata": {},
   "outputs": [
    {
     "name": "stdout",
     "output_type": "stream",
     "text": [
      "Top 5 predictions for https://images.ctfassets.net/awb1we50v0om/6tE2cm5qXWYZqMSNmJ8olk/7f9291c8d27a45b9cdef60e5965e43a1/Recipe2.jpg?w=1920&fm=webp&q=70:\n",
      "  burger: 0.9180\n",
      "  fries: 0.0393\n",
      "  steak: 0.0337\n",
      "  sandwich: 0.0082\n",
      "  salad: 0.0005\n"
     ]
    }
   ],
   "source": [
    "import requests\n",
    "from io import BytesIO\n",
    "from PIL import Image\n",
    "import torch\n",
    "from transformers import CLIPProcessor, CLIPModel\n",
    "\n",
    "def predict_from_url(\n",
    "    image_url: str,\n",
    "    labels: list[str],\n",
    "    topk: int = 5,\n",
    "    model_name: str = \"openai/clip-vit-base-patch32\"\n",
    "):\n",
    "    # 0. Load CLIP processor & model (on first call; cached thereafter)\n",
    "    processor = CLIPProcessor.from_pretrained(model_name)\n",
    "    model = CLIPModel.from_pretrained(model_name).eval()\n",
    "    device = torch.device(\"cuda\" if torch.cuda.is_available() else \"cpu\")\n",
    "    model.to(device)\n",
    "\n",
    "    # 1. Download the image\n",
    "    resp = requests.get(image_url)\n",
    "    resp.raise_for_status()\n",
    "    img = Image.open(BytesIO(resp.content)).convert(\"RGB\")\n",
    "\n",
    "    # 2. Prepare inputs: text prompts + image, padded to max length\n",
    "    inputs = processor(\n",
    "        text=labels,\n",
    "        images=img,\n",
    "        return_tensors=\"pt\",\n",
    "        padding=True\n",
    "    ).to(device)\n",
    "\n",
    "    # 3. Forward pass through CLIP\n",
    "    with torch.no_grad():\n",
    "        outputs = model(**inputs)\n",
    "\n",
    "    # 4. Compute cosine similarity between image embeddings and text embeddings\n",
    "    image_embeds = outputs.image_embeds            # (1, hidden_dim)\n",
    "    text_embeds = outputs.text_embeds              # (len(labels), hidden_dim)\n",
    "\n",
    "    # normalize\n",
    "    image_embeds = image_embeds / image_embeds.norm(p=2, dim=-1, keepdim=True)\n",
    "    text_embeds  = text_embeds  / text_embeds.norm(p=2, dim=-1, keepdim=True)\n",
    "\n",
    "    # cosine similarity → logits\n",
    "    logits = (100.0 * image_embeds @ text_embeds.T).squeeze(0)  # (len(labels),)\n",
    "\n",
    "    # 5. Top-k\n",
    "    probs = logits.softmax(dim=0)\n",
    "    values, indices = probs.topk(topk)\n",
    "\n",
    "    print(f\"Top {topk} predictions for {image_url}:\")\n",
    "    for score, idx in zip(values, indices):\n",
    "        label = labels[idx.item()]\n",
    "        print(f\"  {label}: {score.item():.4f}\")\n",
    "\n",
    "if __name__ == \"__main__\":\n",
    "    labels = [\n",
    "        \"apple\", \"banana\", \"pizza\", \"sandwich\", \"orange\",\n",
    "        \"broccoli\", \"donut\", \"carrot\", \"steak\", \"salad\",\n",
    "        \"burger\", \"fries\"\n",
    "    ]\n",
    "    image_url = (\n",
    "        \"https://images.ctfassets.net/awb1we50v0om/\"\n",
    "        \"6tE2cm5qXWYZqMSNmJ8olk/7f9291c8d27a45b9cdef60e5965e43a1/\"\n",
    "        \"Recipe2.jpg?w=1920&fm=webp&q=70\"\n",
    "    )\n",
    "    predict_from_url(image_url, labels, topk=5)\n",
    "\n",
    "\n"
   ]
  },
  {
   "cell_type": "code",
   "execution_count": null,
   "id": "4e5f043f",
   "metadata": {},
   "outputs": [
    {
     "name": "stderr",
     "output_type": "stream",
     "text": [
      "Fetching 2 files:   0%|          | 0/2 [06:05<?, ?it/s]\n"
     ]
    }
   ],
   "source": [
    "##Blip-2\n",
    "# Load model directly\n",
    "from transformers import AutoProcessor, AutoModelForVisualQuestionAnswering\n",
    "\n",
    "processor = AutoProcessor.from_pretrained(\"Salesforce/blip2-opt-2.7b\")\n",
    "model = AutoModelForVisualQuestionAnswering.from_pretrained(\"Salesforce/blip2-opt-2.7b\")"
   ]
  },
  {
   "cell_type": "code",
   "execution_count": null,
   "id": "790b6806",
   "metadata": {},
   "outputs": [],
   "source": []
  }
 ],
 "metadata": {
  "kernelspec": {
   "display_name": "food",
   "language": "python",
   "name": "python3"
  },
  "language_info": {
   "codemirror_mode": {
    "name": "ipython",
    "version": 3
   },
   "file_extension": ".py",
   "mimetype": "text/x-python",
   "name": "python",
   "nbconvert_exporter": "python",
   "pygments_lexer": "ipython3",
   "version": "3.12.11"
  }
 },
 "nbformat": 4,
 "nbformat_minor": 5
}

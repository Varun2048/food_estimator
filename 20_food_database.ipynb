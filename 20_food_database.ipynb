{
 "cells": [
  {
   "cell_type": "code",
   "execution_count": null,
   "id": "5b75db5b",
   "metadata": {},
   "outputs": [
    {
     "name": "stdout",
     "output_type": "stream",
     "text": [
      "Initialized nutrition.db with 20 common foods.\n"
     ]
    }
   ],
   "source": [
    "import sqlite3\n",
    "\n",
    "# Initialize a SQLite database with a basic nutrition table and 20 common foods\n",
    "\n",
    "def init_nutrition_db(db_path: str = \"nutrition.db\"):\n",
    "    conn = sqlite3.connect(db_path)\n",
    "    cursor = conn.cursor()\n",
    "\n",
    "    # Drop existing table to avoid schema conflicts\n",
    "    cursor.execute(\"DROP TABLE IF EXISTS foods\")\n",
    "\n",
    "    # Create the foods table with full nutrition schema\n",
    "    cursor.execute(\n",
    "        \"\"\"\n",
    "        CREATE TABLE foods (\n",
    "            id INTEGER PRIMARY KEY AUTOINCREMENT,\n",
    "            name TEXT NOT NULL,\n",
    "            calories INTEGER NOT NULL,\n",
    "            protein REAL,\n",
    "            fat REAL,\n",
    "            carbs REAL\n",
    "        )\n",
    "        \"\"\"\n",
    "    )\n",
    "\n",
    "    # List of 20 common foods with basic nutrition per typical serving\n",
    "    foods = [\n",
    "        (\"Apple (1 medium)\", 95, 0.5, 0.3, 25),\n",
    "        (\"Banana (1 medium)\", 105, 1.3, 0.4, 27),\n",
    "        (\"Orange (1 medium)\", 62, 1.2, 0.2, 15),\n",
    "        (\"Broccoli (1 cup raw)\", 31, 2.6, 0.3, 6),\n",
    "        (\"Carrot (1 medium)\", 25, 0.6, 0.1, 6),\n",
    "        (\"Rice, white (1 cup cooked)\", 205, 4.3, 0.4, 45),\n",
    "        (\"Chicken breast (100g)\", 165, 31, 3.6, 0),\n",
    "        (\"Salmon (100g)\", 208, 20, 13, 0),\n",
    "        (\"Egg (1 large)\", 78, 6.3, 5.3, 0.6),\n",
    "        (\"Milk, whole (1 cup)\", 149, 7.7, 8, 12),\n",
    "        (\"Greek yogurt (100g)\", 59, 10, 0.4, 3.6),\n",
    "        (\"Bread, whole wheat (1 slice)\", 69, 3.6, 1.1, 12),\n",
    "        (\"Almonds (28g)\", 164, 6, 14, 6),\n",
    "        (\"Peanut butter (2 tbsp)\", 188, 8, 16, 7),\n",
    "        (\"Potato (1 medium)\", 161, 4.3, 0.2, 37),\n",
    "        (\"Avocado (1/2 medium)\", 120, 1.5, 10, 6),\n",
    "        (\"Spinach (1 cup raw)\", 7, 0.9, 0.1, 1.1),\n",
    "        (\"Tomato (1 medium)\", 22, 1.1, 0.2, 4.8),\n",
    "        (\"Oatmeal (1 cup cooked)\", 158, 6, 3.2, 27),\n",
    "        (\"Sweet potato (1 medium)\", 103, 2.3, 0.2, 24),\n",
    "    ]\n",
    "\n",
    "    # Insert entries\n",
    "    cursor.executemany(\n",
    "        \"INSERT INTO foods (name, calories, protein, fat, carbs) VALUES (?, ?, ?, ?, ?)\",\n",
    "        foods\n",
    "    )\n",
    "\n",
    "    conn.commit()\n",
    "    conn.close()\n",
    "\n",
    "\n",
    "print(\"Initialized nutrition.db with 20 common foods.\")\n",
    "\n"
   ]
  },
  {
   "cell_type": "code",
   "execution_count": 3,
   "id": "ae7e62bf",
   "metadata": {},
   "outputs": [
    {
     "name": "stdout",
     "output_type": "stream",
     "text": [
      "ID  Name                      Cal   Prot  Fat   Carbs\n",
      "-------------------------------------------------------\n",
      "1   Apple (1 medium)          95    0.5   0.3   25.0\n",
      "2   Banana (1 medium)         105   1.3   0.4   27.0\n",
      "3   Orange (1 medium)         62    1.2   0.2   15.0\n",
      "4   Broccoli (1 cup raw)      31    2.6   0.3   6.0\n",
      "5   Carrot (1 medium)         25    0.6   0.1   6.0\n"
     ]
    }
   ],
   "source": [
    "import sqlite3\n",
    "\n",
    "def print_first_rows(db_path: str = \"nutrition.db\", limit: int = 5):\n",
    "    # Connect to the SQLite database\n",
    "    conn = sqlite3.connect(db_path)\n",
    "    cursor = conn.cursor()\n",
    "\n",
    "    # Fetch the first `limit` rows\n",
    "    cursor.execute(\n",
    "        \"SELECT id, name, calories, protein, fat, carbs FROM foods LIMIT ?\",\n",
    "        (limit,)\n",
    "    )\n",
    "    rows = cursor.fetchall()\n",
    "    conn.close()\n",
    "\n",
    "    # Print header\n",
    "    print(f\"{'ID':<3} {'Name':<25} {'Cal':<5} {'Prot':<5} {'Fat':<5} {'Carbs'}\")\n",
    "    print(\"-\" * 55)\n",
    "\n",
    "    # Print each row\n",
    "    for id, name, calories, protein, fat, carbs in rows:\n",
    "        print(f\"{id:<3} {name:<25} {calories:<5} {protein:<5} {fat:<5} {carbs}\")\n",
    "print_first_rows(limit=5)"
   ]
  }
 ],
 "metadata": {
  "kernelspec": {
   "display_name": "food",
   "language": "python",
   "name": "python3"
  },
  "language_info": {
   "codemirror_mode": {
    "name": "ipython",
    "version": 3
   },
   "file_extension": ".py",
   "mimetype": "text/x-python",
   "name": "python",
   "nbconvert_exporter": "python",
   "pygments_lexer": "ipython3",
   "version": "3.12.11"
  }
 },
 "nbformat": 4,
 "nbformat_minor": 5
}
